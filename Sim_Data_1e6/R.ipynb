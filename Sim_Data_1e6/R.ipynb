{
 "cells": [
  {
   "cell_type": "markdown",
   "metadata": {},
   "source": [
    "# <center>R: Porównanie algorytmów</center>\n",
    "---\n",
    "## 1. Konstrukcja modeli i mierników parametrów\n",
    "### 1.1 Biblioteki i edycja danych\n",
    "#### 1.1.1 Biblioteki"
   ]
  },
  {
   "cell_type": "code",
   "execution_count": 1,
   "metadata": {},
   "outputs": [
    {
     "name": "stderr",
     "output_type": "stream",
     "text": [
      "\n",
      "Attaching package: 'dplyr'\n",
      "\n",
      "The following objects are masked from 'package:stats':\n",
      "\n",
      "    filter, lag\n",
      "\n",
      "The following objects are masked from 'package:base':\n",
      "\n",
      "    intersect, setdiff, setequal, union\n",
      "\n",
      "\n",
      "Attaching package: 'data.table'\n",
      "\n",
      "The following objects are masked from 'package:dplyr':\n",
      "\n",
      "    between, first, last\n",
      "\n",
      "Loading required package: Matrix\n",
      "\n",
      "Attaching package: 'nlme'\n",
      "\n",
      "The following object is masked from 'package:lme4':\n",
      "\n",
      "    lmList\n",
      "\n",
      "The following object is masked from 'package:dplyr':\n",
      "\n",
      "    collapse\n",
      "\n",
      "This is mgcv 1.8-28. For overview type 'help(\"mgcv-package\")'.\n"
     ]
    }
   ],
   "source": [
    "library(dplyr)\n",
    "library(data.table)\n",
    "library(lme4)\n",
    "library(nlme)\n",
    "library(mgcv)\n",
    "library(profmem)"
   ]
  },
  {
   "cell_type": "markdown",
   "metadata": {},
   "source": [
    "#### 1.1.2 Wczytanie i edycja danych"
   ]
  },
  {
   "cell_type": "code",
   "execution_count": 2,
   "metadata": {
    "scrolled": true
   },
   "outputs": [
    {
     "data": {
      "text/html": [
       "<table>\n",
       "<thead><tr><th scope=col>y</th><th scope=col>x0</th><th scope=col>x1</th><th scope=col>x2</th><th scope=col>x3</th><th scope=col>f</th><th scope=col>f0</th><th scope=col>f1</th><th scope=col>f2</th><th scope=col>f3</th><th scope=col>fac</th></tr></thead>\n",
       "<tbody>\n",
       "\t<tr><td> 7.260973   </td><td>0.68785741  </td><td>0.5470540   </td><td>0.6354567   </td><td>0.6111791   </td><td>10.956922   </td><td>1.66169056  </td><td>2.986517    </td><td>3.3087140176</td><td>0           </td><td>1           </td></tr>\n",
       "\t<tr><td>12.885550   </td><td>0.49219261  </td><td>0.2736482   </td><td>0.4806589   </td><td>0.8204239   </td><td>12.554521   </td><td>1.99939842  </td><td>1.728573    </td><td>2.8265497071</td><td>0           </td><td>2           </td></tr>\n",
       "\t<tr><td>20.105150   </td><td>0.34511557  </td><td>0.6216723   </td><td>0.3153910   </td><td>0.9487858   </td><td>21.393659   </td><td>1.76787094  </td><td>3.467190    </td><td>7.1585974825</td><td>0           </td><td>3           </td></tr>\n",
       "\t<tr><td>20.716234   </td><td>0.99504991  </td><td>0.9231926   </td><td>0.7437992   </td><td>0.6957668   </td><td>20.553333   </td><td>0.03110107  </td><td>6.336871    </td><td>2.1853611574</td><td>0           </td><td>4           </td></tr>\n",
       "\t<tr><td>15.368211   </td><td>0.69526717  </td><td>0.8153862   </td><td>0.2709855   </td><td>0.3732315   </td><td>18.197753   </td><td>1.63533361  </td><td>5.107819    </td><td>8.4546006591</td><td>0           </td><td>1           </td></tr>\n",
       "\t<tr><td> 8.857683   </td><td>0.01070004  </td><td>0.1109302   </td><td>0.9682905   </td><td>0.4825256   </td><td> 7.315757   </td><td>0.06721765  </td><td>1.248397    </td><td>0.0001426359</td><td>0           </td><td>2           </td></tr>\n",
       "</tbody>\n",
       "</table>\n"
      ],
      "text/latex": [
       "\\begin{tabular}{r|lllllllllll}\n",
       " y & x0 & x1 & x2 & x3 & f & f0 & f1 & f2 & f3 & fac\\\\\n",
       "\\hline\n",
       "\t  7.260973    & 0.68785741   & 0.5470540    & 0.6354567    & 0.6111791    & 10.956922    & 1.66169056   & 2.986517     & 3.3087140176 & 0            & 1           \\\\\n",
       "\t 12.885550    & 0.49219261   & 0.2736482    & 0.4806589    & 0.8204239    & 12.554521    & 1.99939842   & 1.728573     & 2.8265497071 & 0            & 2           \\\\\n",
       "\t 20.105150    & 0.34511557   & 0.6216723    & 0.3153910    & 0.9487858    & 21.393659    & 1.76787094   & 3.467190     & 7.1585974825 & 0            & 3           \\\\\n",
       "\t 20.716234    & 0.99504991   & 0.9231926    & 0.7437992    & 0.6957668    & 20.553333    & 0.03110107   & 6.336871     & 2.1853611574 & 0            & 4           \\\\\n",
       "\t 15.368211    & 0.69526717   & 0.8153862    & 0.2709855    & 0.3732315    & 18.197753    & 1.63533361   & 5.107819     & 8.4546006591 & 0            & 1           \\\\\n",
       "\t  8.857683    & 0.01070004   & 0.1109302    & 0.9682905    & 0.4825256    &  7.315757    & 0.06721765   & 1.248397     & 0.0001426359 & 0            & 2           \\\\\n",
       "\\end{tabular}\n"
      ],
      "text/markdown": [
       "\n",
       "| y | x0 | x1 | x2 | x3 | f | f0 | f1 | f2 | f3 | fac |\n",
       "|---|---|---|---|---|---|---|---|---|---|---|\n",
       "|  7.260973    | 0.68785741   | 0.5470540    | 0.6354567    | 0.6111791    | 10.956922    | 1.66169056   | 2.986517     | 3.3087140176 | 0            | 1            |\n",
       "| 12.885550    | 0.49219261   | 0.2736482    | 0.4806589    | 0.8204239    | 12.554521    | 1.99939842   | 1.728573     | 2.8265497071 | 0            | 2            |\n",
       "| 20.105150    | 0.34511557   | 0.6216723    | 0.3153910    | 0.9487858    | 21.393659    | 1.76787094   | 3.467190     | 7.1585974825 | 0            | 3            |\n",
       "| 20.716234    | 0.99504991   | 0.9231926    | 0.7437992    | 0.6957668    | 20.553333    | 0.03110107   | 6.336871     | 2.1853611574 | 0            | 4            |\n",
       "| 15.368211    | 0.69526717   | 0.8153862    | 0.2709855    | 0.3732315    | 18.197753    | 1.63533361   | 5.107819     | 8.4546006591 | 0            | 1            |\n",
       "|  8.857683    | 0.01070004   | 0.1109302    | 0.9682905    | 0.4825256    |  7.315757    | 0.06721765   | 1.248397     | 0.0001426359 | 0            | 2            |\n",
       "\n"
      ],
      "text/plain": [
       "  y         x0         x1        x2        x3        f         f0        \n",
       "1  7.260973 0.68785741 0.5470540 0.6354567 0.6111791 10.956922 1.66169056\n",
       "2 12.885550 0.49219261 0.2736482 0.4806589 0.8204239 12.554521 1.99939842\n",
       "3 20.105150 0.34511557 0.6216723 0.3153910 0.9487858 21.393659 1.76787094\n",
       "4 20.716234 0.99504991 0.9231926 0.7437992 0.6957668 20.553333 0.03110107\n",
       "5 15.368211 0.69526717 0.8153862 0.2709855 0.3732315 18.197753 1.63533361\n",
       "6  8.857683 0.01070004 0.1109302 0.9682905 0.4825256  7.315757 0.06721765\n",
       "  f1       f2           f3 fac\n",
       "1 2.986517 3.3087140176 0  1  \n",
       "2 1.728573 2.8265497071 0  2  \n",
       "3 3.467190 7.1585974825 0  3  \n",
       "4 6.336871 2.1853611574 0  4  \n",
       "5 5.107819 8.4546006591 0  1  \n",
       "6 1.248397 0.0001426359 0  2  "
      ]
     },
     "metadata": {},
     "output_type": "display_data"
    }
   ],
   "source": [
    "data_set <- fread(\"BIG.csv\")\n",
    "data_set$fac <- as.factor(data_set$fac)\n",
    "\n",
    "head(data_set)"
   ]
  },
  {
   "cell_type": "markdown",
   "metadata": {},
   "source": [
    "### 1.2 Funkcje\n",
    "#### 1.2.1 Funkcja tworząca model"
   ]
  },
  {
   "cell_type": "code",
   "execution_count": 3,
   "metadata": {},
   "outputs": [],
   "source": [
    "LMM <- function(model) {\n",
    "  if(model == \"lme4\") {\n",
    "    LMM_lme4 <- lmer(data=data_set, y ~ x0 + x1 + x2 + (1|fac))\n",
    "    return(LMM_lme4)\n",
    "  }\n",
    "  else if(model == \"nlme\") {\n",
    "    LMM_nlme <- lme(data=data_set, y ~ x0 + x1 + x2, random=~1|fac)\n",
    "    return(LMM_nlme)\n",
    "  }\n",
    "  else if(model == \"bam\") {\n",
    "    LMM_bam <- bam(data=data_set, y ~ x0 + x1 + x2 + s(fac, bs=\"re\"))\n",
    "    return(LMM_bam)\n",
    "  }\n",
    "}"
   ]
  },
  {
   "cell_type": "markdown",
   "metadata": {},
   "source": [
    "#### 1.2.2 Funkcja sprawdzająca czas"
   ]
  },
  {
   "cell_type": "code",
   "execution_count": 4,
   "metadata": {},
   "outputs": [],
   "source": [
    "check_time <- function(model, n) {\n",
    "  times <- c()\n",
    "\n",
    "  for(i in 1:n) {\n",
    "    start_time <- Sys.time()\n",
    "    LMM(model)\n",
    "    end_time <- Sys.time()\n",
    "    times <- c(times, round(end_time - start_time, 4))\n",
    "    }\n",
    "    return(times)\n",
    "  }"
   ]
  },
  {
   "cell_type": "markdown",
   "metadata": {},
   "source": [
    "#### 1.2.3 Funkcja mierząca ilość zużytego RAMu"
   ]
  },
  {
   "cell_type": "code",
   "execution_count": 5,
   "metadata": {},
   "outputs": [],
   "source": [
    "check_RAM <- function(model) {\n",
    "  prof_mem <- profmem({\n",
    "    LMM(model)\n",
    "      })\n",
    "  sum_in_MB <- round(sum(prof_mem$bytes[!is.na(prof_mem$bytes)]) * 1e-6, 4)\n",
    "  return(sum_in_MB)\n",
    "}"
   ]
  },
  {
   "cell_type": "markdown",
   "metadata": {},
   "source": [
    "## 2. Symulacje\n",
    "### 2.1 Podsumowanie modelu\n",
    "#### 2.1.1 \"lme4\""
   ]
  },
  {
   "cell_type": "code",
   "execution_count": 6,
   "metadata": {
    "scrolled": true
   },
   "outputs": [
    {
     "data": {
      "text/plain": [
       "Linear mixed model fit by REML ['lmerMod']\n",
       "Formula: y ~ x0 + x1 + x2 + (1 | fac)\n",
       "   Data: data_set\n",
       "\n",
       "REML criterion at convergence: 5088569\n",
       "\n",
       "Scaled residuals: \n",
       "    Min      1Q  Median      3Q     Max \n",
       "-4.6139 -0.6155  0.0215  0.6592  4.2157 \n",
       "\n",
       "Random effects:\n",
       " Groups   Name        Variance Std.Dev.\n",
       " fac      (Intercept) 15.038   3.878   \n",
       " Residual              9.494   3.081   \n",
       "Number of obs: 1000000, groups:  fac, 4\n",
       "\n",
       "Fixed effects:\n",
       "             Estimate Std. Error  t value\n",
       "(Intercept) 15.161178   1.938967    7.819\n",
       "x0           0.007555   0.010672    0.708\n",
       "x1           5.994844   0.010665  562.101\n",
       "x2          -5.597065   0.010678 -524.159\n",
       "\n",
       "Correlation of Fixed Effects:\n",
       "   (Intr) x0     x1    \n",
       "x0 -0.003              \n",
       "x1 -0.003  0.001       \n",
       "x2 -0.003  0.001  0.001"
      ]
     },
     "metadata": {},
     "output_type": "display_data"
    }
   ],
   "source": [
    " summary(LMM(\"lme4\"))"
   ]
  },
  {
   "cell_type": "markdown",
   "metadata": {},
   "source": [
    "#### 2.1.2 \"nlme\""
   ]
  },
  {
   "cell_type": "code",
   "execution_count": 7,
   "metadata": {},
   "outputs": [
    {
     "data": {
      "text/plain": [
       "Linear mixed-effects model fit by REML\n",
       " Data: data_set \n",
       "      AIC     BIC   logLik\n",
       "  5088581 5088651 -2544284\n",
       "\n",
       "Random effects:\n",
       " Formula: ~1 | fac\n",
       "        (Intercept) Residual\n",
       "StdDev:    3.877112  3.08118\n",
       "\n",
       "Fixed effects: y ~ x0 + x1 + x2 \n",
       "                Value Std.Error     DF   t-value p-value\n",
       "(Intercept) 15.161161 1.9385805 999993    7.8208   0.000\n",
       "x0           0.007555 0.0106719 999993    0.7079   0.479\n",
       "x1           5.994844 0.0106651 999993  562.1015   0.000\n",
       "x2          -5.597065 0.0106782 999993 -524.1588   0.000\n",
       " Correlation: \n",
       "   (Intr) x0     x1    \n",
       "x0 -0.003              \n",
       "x1 -0.003  0.001       \n",
       "x2 -0.003  0.001  0.001\n",
       "\n",
       "Standardized Within-Group Residuals:\n",
       "        Min          Q1         Med          Q3         Max \n",
       "-4.61391621 -0.61545985  0.02150786  0.65921285  4.21567231 \n",
       "\n",
       "Number of Observations: 1000000\n",
       "Number of Groups: 4 "
      ]
     },
     "metadata": {},
     "output_type": "display_data"
    }
   ],
   "source": [
    "summary(LMM(\"nlme\"))"
   ]
  },
  {
   "cell_type": "markdown",
   "metadata": {},
   "source": [
    "#### 2.1.3 \"bam\""
   ]
  },
  {
   "cell_type": "code",
   "execution_count": 8,
   "metadata": {
    "scrolled": false
   },
   "outputs": [
    {
     "data": {
      "text/plain": [
       "\n",
       "Family: gaussian \n",
       "Link function: identity \n",
       "\n",
       "Formula:\n",
       "y ~ x0 + x1 + x2 + s(fac, bs = \"re\")\n",
       "\n",
       "Parametric coefficients:\n",
       "             Estimate Std. Error  t value Pr(>|t|)    \n",
       "(Intercept) 15.161161   1.927542    7.866 3.68e-15 ***\n",
       "x0           0.007555   0.010672    0.708    0.479    \n",
       "x1           5.994844   0.010665  562.101  < 2e-16 ***\n",
       "x2          -5.597065   0.010678 -524.159  < 2e-16 ***\n",
       "---\n",
       "Signif. codes:  0 '***' 0.001 '**' 0.01 '*' 0.05 '.' 0.1 ' ' 1\n",
       "\n",
       "Approximate significance of smooth terms:\n",
       "       edf Ref.df      F p-value    \n",
       "s(fac)   3      3 395842  <2e-16 ***\n",
       "---\n",
       "Signif. codes:  0 '***' 0.001 '**' 0.01 '*' 0.05 '.' 0.1 ' ' 1\n",
       "\n",
       "R-sq.(adj) =   0.64   Deviance explained =   64%\n",
       "fREML = 2.5443e+06  Scale est. = 9.4937    n = 1000000"
      ]
     },
     "metadata": {},
     "output_type": "display_data"
    }
   ],
   "source": [
    "summary(LMM(\"bam\"))"
   ]
  },
  {
   "cell_type": "markdown",
   "metadata": {},
   "source": [
    "### 2.2 Sprawdzenie czasu konstrukcji modelu\n",
    "#### 2.2.1 100 razy z użyciem funkcji \"check_time(model, n)\""
   ]
  },
  {
   "cell_type": "code",
   "execution_count": 9,
   "metadata": {
    "scrolled": false
   },
   "outputs": [
    {
     "data": {
      "text/html": [
       "<table>\n",
       "<thead><tr><th scope=col>lme4_mean</th><th scope=col>lme4_sd</th><th scope=col>nlme_mean</th><th scope=col>nlme_sd</th><th scope=col>bam_mean</th><th scope=col>bam_sd</th></tr></thead>\n",
       "<tbody>\n",
       "\t<tr><td>9.5139 </td><td>0.3001 </td><td>11.7934</td><td>0.5152 </td><td>3.8094 </td><td>0.2296 </td></tr>\n",
       "</tbody>\n",
       "</table>\n"
      ],
      "text/latex": [
       "\\begin{tabular}{r|llllll}\n",
       " lme4\\_mean & lme4\\_sd & nlme\\_mean & nlme\\_sd & bam\\_mean & bam\\_sd\\\\\n",
       "\\hline\n",
       "\t 9.5139  & 0.3001  & 11.7934 & 0.5152  & 3.8094  & 0.2296 \\\\\n",
       "\\end{tabular}\n"
      ],
      "text/markdown": [
       "\n",
       "| lme4_mean | lme4_sd | nlme_mean | nlme_sd | bam_mean | bam_sd |\n",
       "|---|---|---|---|---|---|\n",
       "| 9.5139  | 0.3001  | 11.7934 | 0.5152  | 3.8094  | 0.2296  |\n",
       "\n"
      ],
      "text/plain": [
       "  lme4_mean lme4_sd nlme_mean nlme_sd bam_mean bam_sd\n",
       "1 9.5139    0.3001  11.7934   0.5152  3.8094   0.2296"
      ]
     },
     "metadata": {},
     "output_type": "display_data"
    }
   ],
   "source": [
    "LMM_lme4_times <- check_time(\"lme4\", 100)\n",
    "LMM_nlme_times <- check_time(\"nlme\", 100)\n",
    "LMM_bam_times <- check_time(\"bam\", 100)\n",
    "\n",
    "data.frame(LMM_lme4_times, LMM_nlme_times, LMM_bam_times) %>%\n",
    "    summarise(lme4_mean = round(mean(LMM_lme4_times), 4),\n",
    "              lme4_sd = round(sd(LMM_lme4_times), 4),\n",
    "              nlme_mean = round(mean(LMM_nlme_times), 4),\n",
    "              nlme_sd = round(sd(LMM_nlme_times), 4),\n",
    "              bam_mean = round(mean(LMM_bam_times), 4),\n",
    "              bam_sd = round(sd(LMM_bam_times), 4))"
   ]
  },
  {
   "cell_type": "markdown",
   "metadata": {},
   "source": [
    "### 2.3 Sprawdzenie zużytej pamięci RAM\n",
    "#### 2.3.1 Z użyciem funkcji \"check_RAM(model)\""
   ]
  },
  {
   "cell_type": "code",
   "execution_count": 11,
   "metadata": {},
   "outputs": [
    {
     "data": {
      "text/html": [
       "<table>\n",
       "<thead><tr><th scope=col>lme4_RAM</th><th scope=col>nlme_RAM</th><th scope=col>bam_RAM</th></tr></thead>\n",
       "<tbody>\n",
       "\t<tr><td>1740.168</td><td>1724.926</td><td>1652.27 </td></tr>\n",
       "</tbody>\n",
       "</table>\n"
      ],
      "text/latex": [
       "\\begin{tabular}{r|lll}\n",
       " lme4\\_RAM & nlme\\_RAM & bam\\_RAM\\\\\n",
       "\\hline\n",
       "\t 1740.168 & 1724.926 & 1652.27 \\\\\n",
       "\\end{tabular}\n"
      ],
      "text/markdown": [
       "\n",
       "| lme4_RAM | nlme_RAM | bam_RAM |\n",
       "|---|---|---|\n",
       "| 1740.168 | 1724.926 | 1652.27  |\n",
       "\n"
      ],
      "text/plain": [
       "  lme4_RAM nlme_RAM bam_RAM\n",
       "1 1740.168 1724.926 1652.27"
      ]
     },
     "metadata": {},
     "output_type": "display_data"
    }
   ],
   "source": [
    "lme4_RAM <- check_RAM(\"lme4\")\n",
    "nlme_RAM <- check_RAM(\"nlme\")\n",
    "bam_RAM <- check_RAM(\"bam\")\n",
    "\n",
    "data.frame(lme4_RAM, nlme_RAM, bam_RAM)"
   ]
  },
  {
   "cell_type": "markdown",
   "metadata": {},
   "source": [
    "#### 2.3.2 Z użyciem wbudowanego w R narzędzia profilowania"
   ]
  },
  {
   "cell_type": "markdown",
   "metadata": {},
   "source": [
    "https://rpubs.com/kamilpytlak/LMM_BIG_2"
   ]
  }
 ],
 "metadata": {
  "kernelspec": {
   "display_name": "R",
   "language": "R",
   "name": "ir"
  },
  "language_info": {
   "codemirror_mode": "r",
   "file_extension": ".r",
   "mimetype": "text/x-r-source",
   "name": "R",
   "pygments_lexer": "r",
   "version": "3.6.1"
  }
 },
 "nbformat": 4,
 "nbformat_minor": 4
}
