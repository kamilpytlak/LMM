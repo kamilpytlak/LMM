{
 "cells": [
  {
   "cell_type": "markdown",
   "metadata": {},
   "source": [
    "# <center>R: Porównanie algorytmów</center>\n",
    "---\n",
    "## 1. Konstrukcja modeli i mierników parametrów\n",
    "### 1.1 Biblioteki i edycja danych\n",
    "#### 1.1.1 Biblioteki"
   ]
  },
  {
   "cell_type": "code",
   "execution_count": 1,
   "metadata": {},
   "outputs": [
    {
     "name": "stderr",
     "output_type": "stream",
     "text": [
      "\n",
      "Attaching package: 'dplyr'\n",
      "\n",
      "The following objects are masked from 'package:stats':\n",
      "\n",
      "    filter, lag\n",
      "\n",
      "The following objects are masked from 'package:base':\n",
      "\n",
      "    intersect, setdiff, setequal, union\n",
      "\n",
      "\n",
      "Attaching package: 'data.table'\n",
      "\n",
      "The following objects are masked from 'package:dplyr':\n",
      "\n",
      "    between, first, last\n",
      "\n",
      "Loading required package: Matrix\n",
      "\n",
      "Attaching package: 'nlme'\n",
      "\n",
      "The following object is masked from 'package:lme4':\n",
      "\n",
      "    lmList\n",
      "\n",
      "The following object is masked from 'package:dplyr':\n",
      "\n",
      "    collapse\n",
      "\n",
      "This is mgcv 1.8-28. For overview type 'help(\"mgcv-package\")'.\n"
     ]
    }
   ],
   "source": [
    "library(dplyr)\n",
    "library(data.table)\n",
    "library(lme4)\n",
    "library(nlme)\n",
    "library(mgcv)\n",
    "library(profmem)"
   ]
  },
  {
   "cell_type": "markdown",
   "metadata": {},
   "source": [
    "#### 1.1.2 Wczytanie i edycja danych"
   ]
  },
  {
   "cell_type": "code",
   "execution_count": 2,
   "metadata": {
    "scrolled": true
   },
   "outputs": [
    {
     "data": {
      "text/html": [
       "<table>\n",
       "<thead><tr><th scope=col>V1</th><th scope=col>y</th><th scope=col>x0</th><th scope=col>x1</th><th scope=col>x2</th><th scope=col>x3</th><th scope=col>f</th><th scope=col>f0</th><th scope=col>f1</th><th scope=col>f2</th><th scope=col>f3</th><th scope=col>fac</th></tr></thead>\n",
       "<tbody>\n",
       "\t<tr><td>1         </td><td> 9.698274 </td><td>0.28274594</td><td>0.5118063 </td><td>0.6582616 </td><td>0.4155267 </td><td>10.60030  </td><td>1.5519667 </td><td>2.783231  </td><td>3.265107  </td><td>0         </td><td>1         </td></tr>\n",
       "\t<tr><td>2         </td><td>14.007447 </td><td>0.12618791</td><td>0.3461578 </td><td>0.2808795 </td><td>0.4620316 </td><td>16.98987  </td><td>0.7722572 </td><td>1.998337  </td><td>8.219271  </td><td>0         </td><td>2         </td></tr>\n",
       "\t<tr><td>3         </td><td>18.608061 </td><td>0.21070526</td><td>0.9641912 </td><td>0.7695708 </td><td>0.9338649 </td><td>18.78837  </td><td>1.2293125 </td><td>6.878374  </td><td>1.680687  </td><td>0         </td><td>3         </td></tr>\n",
       "\t<tr><td>4         </td><td>14.800216 </td><td>0.08276877</td><td>0.4074184 </td><td>0.3876047 </td><td>0.5187097 </td><td>19.40600  </td><td>0.5142109 </td><td>2.258807  </td><td>4.632986  </td><td>0         </td><td>4         </td></tr>\n",
       "\t<tr><td>5         </td><td>14.548328 </td><td>0.75797857</td><td>0.7225473 </td><td>0.3940279 </td><td>0.9478225 </td><td>13.05678  </td><td>1.3783252 </td><td>4.242254  </td><td>4.436202  </td><td>0         </td><td>1         </td></tr>\n",
       "\t<tr><td>6         </td><td>13.633780 </td><td>0.61542552</td><td>0.4334147 </td><td>0.6122287 </td><td>0.9500592 </td><td>13.50558  </td><td>1.8699413 </td><td>2.379355  </td><td>3.256285  </td><td>0         </td><td>2         </td></tr>\n",
       "</tbody>\n",
       "</table>\n"
      ],
      "text/latex": [
       "\\begin{tabular}{r|llllllllllll}\n",
       " V1 & y & x0 & x1 & x2 & x3 & f & f0 & f1 & f2 & f3 & fac\\\\\n",
       "\\hline\n",
       "\t 1          &  9.698274  & 0.28274594 & 0.5118063  & 0.6582616  & 0.4155267  & 10.60030   & 1.5519667  & 2.783231   & 3.265107   & 0          & 1         \\\\\n",
       "\t 2          & 14.007447  & 0.12618791 & 0.3461578  & 0.2808795  & 0.4620316  & 16.98987   & 0.7722572  & 1.998337   & 8.219271   & 0          & 2         \\\\\n",
       "\t 3          & 18.608061  & 0.21070526 & 0.9641912  & 0.7695708  & 0.9338649  & 18.78837   & 1.2293125  & 6.878374   & 1.680687   & 0          & 3         \\\\\n",
       "\t 4          & 14.800216  & 0.08276877 & 0.4074184  & 0.3876047  & 0.5187097  & 19.40600   & 0.5142109  & 2.258807   & 4.632986   & 0          & 4         \\\\\n",
       "\t 5          & 14.548328  & 0.75797857 & 0.7225473  & 0.3940279  & 0.9478225  & 13.05678   & 1.3783252  & 4.242254   & 4.436202   & 0          & 1         \\\\\n",
       "\t 6          & 13.633780  & 0.61542552 & 0.4334147  & 0.6122287  & 0.9500592  & 13.50558   & 1.8699413  & 2.379355   & 3.256285   & 0          & 2         \\\\\n",
       "\\end{tabular}\n"
      ],
      "text/markdown": [
       "\n",
       "| V1 | y | x0 | x1 | x2 | x3 | f | f0 | f1 | f2 | f3 | fac |\n",
       "|---|---|---|---|---|---|---|---|---|---|---|---|\n",
       "| 1          |  9.698274  | 0.28274594 | 0.5118063  | 0.6582616  | 0.4155267  | 10.60030   | 1.5519667  | 2.783231   | 3.265107   | 0          | 1          |\n",
       "| 2          | 14.007447  | 0.12618791 | 0.3461578  | 0.2808795  | 0.4620316  | 16.98987   | 0.7722572  | 1.998337   | 8.219271   | 0          | 2          |\n",
       "| 3          | 18.608061  | 0.21070526 | 0.9641912  | 0.7695708  | 0.9338649  | 18.78837   | 1.2293125  | 6.878374   | 1.680687   | 0          | 3          |\n",
       "| 4          | 14.800216  | 0.08276877 | 0.4074184  | 0.3876047  | 0.5187097  | 19.40600   | 0.5142109  | 2.258807   | 4.632986   | 0          | 4          |\n",
       "| 5          | 14.548328  | 0.75797857 | 0.7225473  | 0.3940279  | 0.9478225  | 13.05678   | 1.3783252  | 4.242254   | 4.436202   | 0          | 1          |\n",
       "| 6          | 13.633780  | 0.61542552 | 0.4334147  | 0.6122287  | 0.9500592  | 13.50558   | 1.8699413  | 2.379355   | 3.256285   | 0          | 2          |\n",
       "\n"
      ],
      "text/plain": [
       "  V1 y         x0         x1        x2        x3        f        f0       \n",
       "1 1   9.698274 0.28274594 0.5118063 0.6582616 0.4155267 10.60030 1.5519667\n",
       "2 2  14.007447 0.12618791 0.3461578 0.2808795 0.4620316 16.98987 0.7722572\n",
       "3 3  18.608061 0.21070526 0.9641912 0.7695708 0.9338649 18.78837 1.2293125\n",
       "4 4  14.800216 0.08276877 0.4074184 0.3876047 0.5187097 19.40600 0.5142109\n",
       "5 5  14.548328 0.75797857 0.7225473 0.3940279 0.9478225 13.05678 1.3783252\n",
       "6 6  13.633780 0.61542552 0.4334147 0.6122287 0.9500592 13.50558 1.8699413\n",
       "  f1       f2       f3 fac\n",
       "1 2.783231 3.265107 0  1  \n",
       "2 1.998337 8.219271 0  2  \n",
       "3 6.878374 1.680687 0  3  \n",
       "4 2.258807 4.632986 0  4  \n",
       "5 4.242254 4.436202 0  1  \n",
       "6 2.379355 3.256285 0  2  "
      ]
     },
     "metadata": {},
     "output_type": "display_data"
    }
   ],
   "source": [
    "data_set <- fread(\"BIG_1.csv\")\n",
    "data_set$fac <- as.factor(data_set$fac)\n",
    "\n",
    "head(data_set)"
   ]
  },
  {
   "cell_type": "markdown",
   "metadata": {},
   "source": [
    "### 1.2 Funkcje\n",
    "#### 1.2.1 Funkcja tworząca model"
   ]
  },
  {
   "cell_type": "code",
   "execution_count": 3,
   "metadata": {},
   "outputs": [],
   "source": [
    "LMM <- function(model) {\n",
    "  if(model == \"lme4\") {\n",
    "    LMM_lme4 <- lmer(data=data_set, y ~ x0 + x1 + x2 + (1|fac))\n",
    "    return(LMM_lme4)\n",
    "  }\n",
    "  else if(model == \"nlme\") {\n",
    "    LMM_nlme <- lme(data=data_set, y ~ x0 + x1 + x2, random=~1|fac)\n",
    "    return(LMM_nlme)\n",
    "  }\n",
    "  else if(model == \"bam\") {\n",
    "    LMM_bam <- bam(data=data_set, y ~ x0 + x1 + x2 + s(fac, bs=\"re\"))\n",
    "    return(LMM_bam)\n",
    "  }\n",
    "}"
   ]
  },
  {
   "cell_type": "markdown",
   "metadata": {},
   "source": [
    "#### 1.2.2 Funkcja sprawdzająca czas"
   ]
  },
  {
   "cell_type": "code",
   "execution_count": 4,
   "metadata": {},
   "outputs": [],
   "source": [
    "check_time <- function(model, n) {\n",
    "  times <- c()\n",
    "\n",
    "  for(i in 1:n) {\n",
    "    start_time <- Sys.time()\n",
    "    LMM(model)\n",
    "    end_time <- Sys.time()\n",
    "    times <- c(times, round(end_time - start_time, 4))\n",
    "    }\n",
    "    return(times)\n",
    "  }"
   ]
  },
  {
   "cell_type": "markdown",
   "metadata": {},
   "source": [
    "#### 1.2.3 Funkcja mierząca ilość zużytego RAMu"
   ]
  },
  {
   "cell_type": "code",
   "execution_count": 5,
   "metadata": {},
   "outputs": [],
   "source": [
    "check_RAM <- function(model) {\n",
    "  prof_mem <- profmem({\n",
    "    LMM(model)\n",
    "      })\n",
    "  sum_in_MB <- round(sum(prof_mem$bytes[!is.na(prof_mem$bytes)]) * 1e-6, 4)\n",
    "  return(sum_in_MB)\n",
    "}"
   ]
  },
  {
   "cell_type": "markdown",
   "metadata": {},
   "source": [
    "## 2. Symulacje\n",
    "### 2.1 Podsumowanie modelu\n",
    "#### 2.1.1 \"lme4\""
   ]
  },
  {
   "cell_type": "code",
   "execution_count": 6,
   "metadata": {
    "scrolled": true
   },
   "outputs": [
    {
     "data": {
      "text/plain": [
       "Linear mixed model fit by REML ['lmerMod']\n",
       "Formula: y ~ x0 + x1 + x2 + (1 | fac)\n",
       "   Data: data_set\n",
       "\n",
       "REML criterion at convergence: 509391.5\n",
       "\n",
       "Scaled residuals: \n",
       "    Min      1Q  Median      3Q     Max \n",
       "-4.4542 -0.6182  0.0196  0.6605  3.8117 \n",
       "\n",
       "Random effects:\n",
       " Groups   Name        Variance Std.Dev.\n",
       " fac      (Intercept) 15.01    3.874   \n",
       " Residual              9.54    3.089   \n",
       "Number of obs: 100000, groups:  fac, 4\n",
       "\n",
       "Fixed effects:\n",
       "            Estimate Std. Error  t value\n",
       "(Intercept) 15.10717    1.93718    7.799\n",
       "x0          -0.02337    0.03388   -0.690\n",
       "x1           5.95760    0.03384  176.031\n",
       "x2          -5.47141    0.03380 -161.864\n",
       "\n",
       "Correlation of Fixed Effects:\n",
       "   (Intr) x0     x1    \n",
       "x0 -0.009              \n",
       "x1 -0.009  0.004       \n",
       "x2 -0.009  0.003  0.008"
      ]
     },
     "metadata": {},
     "output_type": "display_data"
    }
   ],
   "source": [
    " summary(LMM(\"lme4\"))"
   ]
  },
  {
   "cell_type": "markdown",
   "metadata": {},
   "source": [
    "#### 2.1.2 \"nlme\""
   ]
  },
  {
   "cell_type": "code",
   "execution_count": 7,
   "metadata": {},
   "outputs": [
    {
     "data": {
      "text/plain": [
       "Linear mixed-effects model fit by REML\n",
       " Data: data_set \n",
       "       AIC      BIC    logLik\n",
       "  509403.5 509460.6 -254695.8\n",
       "\n",
       "Random effects:\n",
       " Formula: ~1 | fac\n",
       "        (Intercept) Residual\n",
       "StdDev:    3.873859 3.088759\n",
       "\n",
       "Fixed effects: y ~ x0 + x1 + x2 \n",
       "                Value Std.Error    DF    t-value p-value\n",
       "(Intercept) 15.107168 1.9371783 99993    7.79854  0.0000\n",
       "x0          -0.023373 0.0338783 99993   -0.68991  0.4902\n",
       "x1           5.957597 0.0338439 99993  176.03148  0.0000\n",
       "x2          -5.471413 0.0338025 99993 -161.86435  0.0000\n",
       " Correlation: \n",
       "   (Intr) x0     x1    \n",
       "x0 -0.009              \n",
       "x1 -0.009  0.004       \n",
       "x2 -0.009  0.003  0.008\n",
       "\n",
       "Standardized Within-Group Residuals:\n",
       "        Min          Q1         Med          Q3         Max \n",
       "-4.45415170 -0.61821428  0.01956955  0.66054780  3.81169918 \n",
       "\n",
       "Number of Observations: 100000\n",
       "Number of Groups: 4 "
      ]
     },
     "metadata": {},
     "output_type": "display_data"
    }
   ],
   "source": [
    "summary(LMM(\"nlme\"))"
   ]
  },
  {
   "cell_type": "markdown",
   "metadata": {},
   "source": [
    "#### 2.1.3 \"bam\""
   ]
  },
  {
   "cell_type": "code",
   "execution_count": 8,
   "metadata": {
    "scrolled": false
   },
   "outputs": [
    {
     "data": {
      "text/plain": [
       "\n",
       "Family: gaussian \n",
       "Link function: identity \n",
       "\n",
       "Formula:\n",
       "y ~ x0 + x1 + x2 + s(fac, bs = \"re\")\n",
       "\n",
       "Parametric coefficients:\n",
       "            Estimate Std. Error  t value Pr(>|t|)    \n",
       "(Intercept) 15.10717    1.93717    7.799 6.32e-15 ***\n",
       "x0          -0.02337    0.03388   -0.690     0.49    \n",
       "x1           5.95760    0.03384  176.031  < 2e-16 ***\n",
       "x2          -5.47141    0.03380 -161.864  < 2e-16 ***\n",
       "---\n",
       "Signif. codes:  0 '***' 0.001 '**' 0.01 '*' 0.05 '.' 0.1 ' ' 1\n",
       "\n",
       "Approximate significance of smooth terms:\n",
       "       edf Ref.df     F p-value    \n",
       "s(fac)   3      3 39321  <2e-16 ***\n",
       "---\n",
       "Signif. codes:  0 '***' 0.001 '**' 0.01 '*' 0.05 '.' 0.1 ' ' 1\n",
       "\n",
       "R-sq.(adj) =  0.639   Deviance explained = 63.9%\n",
       "fREML = 2.547e+05  Scale est. = 9.5404    n = 100000"
      ]
     },
     "metadata": {},
     "output_type": "display_data"
    }
   ],
   "source": [
    "summary(LMM(\"bam\"))"
   ]
  },
  {
   "cell_type": "markdown",
   "metadata": {},
   "source": [
    "### 2.2 Sprawdzenie czasu konstrukcji modelu\n",
    "#### 2.2.1 100 razy z użyciem funkcji \"check_time(model, n)\""
   ]
  },
  {
   "cell_type": "code",
   "execution_count": 9,
   "metadata": {
    "scrolled": false
   },
   "outputs": [
    {
     "data": {
      "text/html": [
       "<table>\n",
       "<thead><tr><th scope=col>lme4_mean</th><th scope=col>lme4_sd</th><th scope=col>nlme_mean</th><th scope=col>nlme_sd</th><th scope=col>bam_mean</th><th scope=col>bam_sd</th></tr></thead>\n",
       "<tbody>\n",
       "\t<tr><td>0.8685</td><td>0.0812</td><td>1.1749</td><td>0.084 </td><td>1.3588</td><td>0.1339</td></tr>\n",
       "</tbody>\n",
       "</table>\n"
      ],
      "text/latex": [
       "\\begin{tabular}{r|llllll}\n",
       " lme4\\_mean & lme4\\_sd & nlme\\_mean & nlme\\_sd & bam\\_mean & bam\\_sd\\\\\n",
       "\\hline\n",
       "\t 0.8685 & 0.0812 & 1.1749 & 0.084  & 1.3588 & 0.1339\\\\\n",
       "\\end{tabular}\n"
      ],
      "text/markdown": [
       "\n",
       "| lme4_mean | lme4_sd | nlme_mean | nlme_sd | bam_mean | bam_sd |\n",
       "|---|---|---|---|---|---|\n",
       "| 0.8685 | 0.0812 | 1.1749 | 0.084  | 1.3588 | 0.1339 |\n",
       "\n"
      ],
      "text/plain": [
       "  lme4_mean lme4_sd nlme_mean nlme_sd bam_mean bam_sd\n",
       "1 0.8685    0.0812  1.1749    0.084   1.3588   0.1339"
      ]
     },
     "metadata": {},
     "output_type": "display_data"
    }
   ],
   "source": [
    "LMM_lme4_times <- check_time(\"lme4\", 100)\n",
    "LMM_nlme_times <- check_time(\"nlme\", 100)\n",
    "LMM_bam_times <- check_time(\"bam\", 100)\n",
    "\n",
    "data.frame(LMM_lme4_times, LMM_nlme_times, LMM_bam_times) %>%\n",
    "    summarise(lme4_mean = round(mean(LMM_lme4_times), 4),\n",
    "              lme4_sd = round(sd(LMM_lme4_times), 4),\n",
    "              nlme_mean = round(mean(LMM_nlme_times), 4),\n",
    "              nlme_sd = round(sd(LMM_nlme_times), 4),\n",
    "              bam_mean = round(mean(LMM_bam_times), 4),\n",
    "              bam_sd = round(sd(LMM_bam_times), 4))"
   ]
  },
  {
   "cell_type": "markdown",
   "metadata": {},
   "source": [
    "### 2.3 Sprawdzenie zużytej pamięci RAM\n",
    "#### 2.3.1 Z użyciem funkcji \"check_RAM(model)\""
   ]
  },
  {
   "cell_type": "code",
   "execution_count": 10,
   "metadata": {},
   "outputs": [
    {
     "data": {
      "text/html": [
       "<table>\n",
       "<thead><tr><th scope=col>lme4_RAM</th><th scope=col>nlme_RAM</th><th scope=col>bam_RAM</th></tr></thead>\n",
       "<tbody>\n",
       "\t<tr><td>175.7481</td><td>174.6259</td><td>171.6016</td></tr>\n",
       "</tbody>\n",
       "</table>\n"
      ],
      "text/latex": [
       "\\begin{tabular}{r|lll}\n",
       " lme4\\_RAM & nlme\\_RAM & bam\\_RAM\\\\\n",
       "\\hline\n",
       "\t 175.7481 & 174.6259 & 171.6016\\\\\n",
       "\\end{tabular}\n"
      ],
      "text/markdown": [
       "\n",
       "| lme4_RAM | nlme_RAM | bam_RAM |\n",
       "|---|---|---|\n",
       "| 175.7481 | 174.6259 | 171.6016 |\n",
       "\n"
      ],
      "text/plain": [
       "  lme4_RAM nlme_RAM bam_RAM \n",
       "1 175.7481 174.6259 171.6016"
      ]
     },
     "metadata": {},
     "output_type": "display_data"
    }
   ],
   "source": [
    "lme4_RAM <- check_RAM(\"lme4\")\n",
    "nlme_RAM <- check_RAM(\"nlme\")\n",
    "bam_RAM <- check_RAM(\"bam\")\n",
    "\n",
    "data.frame(lme4_RAM, nlme_RAM, bam_RAM)"
   ]
  },
  {
   "cell_type": "markdown",
   "metadata": {},
   "source": [
    "#### 2.3.2 Z użyciem wbudowanego w R narzędzia profilowania"
   ]
  },
  {
   "cell_type": "markdown",
   "metadata": {},
   "source": [
    "https://rpubs.com/kamilpytlak/LMM_BIG_1"
   ]
  }
 ],
 "metadata": {
  "kernelspec": {
   "display_name": "R",
   "language": "R",
   "name": "ir"
  },
  "language_info": {
   "codemirror_mode": "r",
   "file_extension": ".r",
   "mimetype": "text/x-r-source",
   "name": "R",
   "pygments_lexer": "r",
   "version": "3.6.1"
  }
 },
 "nbformat": 4,
 "nbformat_minor": 4
}
