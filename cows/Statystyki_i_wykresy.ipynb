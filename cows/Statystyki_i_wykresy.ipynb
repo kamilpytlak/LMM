{
 "cells": [
  {
   "cell_type": "markdown",
   "metadata": {},
   "source": [
    "# <center>Wizualizacja wyników i testy statystyczne</center>\n",
    "---\n",
    "## 1. Biblioteki i edycja danych\n",
    "### 1.1 Biblioteki"
   ]
  },
  {
   "cell_type": "code",
   "execution_count": 1,
   "metadata": {
    "scrolled": true
   },
   "outputs": [
    {
     "name": "stderr",
     "output_type": "stream",
     "text": [
      "Warning message:\n",
      "\"package 'dplyr' was built under R version 3.6.3\"\n",
      "Attaching package: 'dplyr'\n",
      "\n",
      "The following objects are masked from 'package:stats':\n",
      "\n",
      "    filter, lag\n",
      "\n",
      "The following objects are masked from 'package:base':\n",
      "\n",
      "    intersect, setdiff, setequal, union\n",
      "\n",
      "Warning message:\n",
      "\"package 'ggplot2' was built under R version 3.6.3\"Warning message:\n",
      "\"package 'FSA' was built under R version 3.6.3\"## FSA v0.8.30. See citation('FSA') if used in publication.\n",
      "## Run fishR() for related website and fishR('IFAR') for related book.\n",
      "Warning message:\n",
      "\"package 'mgcv' was built under R version 3.6.3\"Loading required package: nlme\n",
      "Warning message:\n",
      "\"package 'nlme' was built under R version 3.6.3\"\n",
      "Attaching package: 'nlme'\n",
      "\n",
      "The following object is masked from 'package:dplyr':\n",
      "\n",
      "    collapse\n",
      "\n",
      "This is mgcv 1.8-31. For overview type 'help(\"mgcv-package\")'.\n"
     ]
    }
   ],
   "source": [
    "library(dplyr)\n",
    "library(ggplot2)\n",
    "library(FSA)\n",
    "library(mgcv)"
   ]
  },
  {
   "cell_type": "markdown",
   "metadata": {},
   "source": [
    "### 1.2 Wczytanie i edycja danych"
   ]
  },
  {
   "cell_type": "code",
   "execution_count": 2,
   "metadata": {
    "scrolled": false
   },
   "outputs": [
    {
     "data": {
      "text/html": [
       "<table>\n",
       "<thead><tr><th scope=col>statsmodel_formula</th><th scope=col>statsmodel_matrix</th><th scope=col>lme4</th><th scope=col>nlme</th><th scope=col>mgcv</th></tr></thead>\n",
       "<tbody>\n",
       "\t<tr><td>0.5667</td><td>0.5457</td><td>0.034 </td><td>0.054 </td><td>1.8668</td></tr>\n",
       "\t<tr><td>0.6446</td><td>0.6686</td><td>0.027 </td><td>0.054 </td><td>1.8926</td></tr>\n",
       "\t<tr><td>0.6416</td><td>0.6027</td><td>0.026 </td><td>0.053 </td><td>1.9927</td></tr>\n",
       "\t<tr><td>0.6846</td><td>0.6176</td><td>0.026 </td><td>0.053 </td><td>1.8993</td></tr>\n",
       "\t<tr><td>0.6816</td><td>0.6696</td><td>0.029 </td><td>0.053 </td><td>1.9611</td></tr>\n",
       "\t<tr><td>0.6506</td><td>0.6196</td><td>0.029 </td><td>0.053 </td><td>1.9931</td></tr>\n",
       "</tbody>\n",
       "</table>\n"
      ],
      "text/latex": [
       "\\begin{tabular}{r|lllll}\n",
       " statsmodel\\_formula & statsmodel\\_matrix & lme4 & nlme & mgcv\\\\\n",
       "\\hline\n",
       "\t 0.5667 & 0.5457 & 0.034  & 0.054  & 1.8668\\\\\n",
       "\t 0.6446 & 0.6686 & 0.027  & 0.054  & 1.8926\\\\\n",
       "\t 0.6416 & 0.6027 & 0.026  & 0.053  & 1.9927\\\\\n",
       "\t 0.6846 & 0.6176 & 0.026  & 0.053  & 1.8993\\\\\n",
       "\t 0.6816 & 0.6696 & 0.029  & 0.053  & 1.9611\\\\\n",
       "\t 0.6506 & 0.6196 & 0.029  & 0.053  & 1.9931\\\\\n",
       "\\end{tabular}\n"
      ],
      "text/markdown": [
       "\n",
       "| statsmodel_formula | statsmodel_matrix | lme4 | nlme | mgcv |\n",
       "|---|---|---|---|---|\n",
       "| 0.5667 | 0.5457 | 0.034  | 0.054  | 1.8668 |\n",
       "| 0.6446 | 0.6686 | 0.027  | 0.054  | 1.8926 |\n",
       "| 0.6416 | 0.6027 | 0.026  | 0.053  | 1.9927 |\n",
       "| 0.6846 | 0.6176 | 0.026  | 0.053  | 1.8993 |\n",
       "| 0.6816 | 0.6696 | 0.029  | 0.053  | 1.9611 |\n",
       "| 0.6506 | 0.6196 | 0.029  | 0.053  | 1.9931 |\n",
       "\n"
      ],
      "text/plain": [
       "  statsmodel_formula statsmodel_matrix lme4  nlme  mgcv  \n",
       "1 0.5667             0.5457            0.034 0.054 1.8668\n",
       "2 0.6446             0.6686            0.027 0.054 1.8926\n",
       "3 0.6416             0.6027            0.026 0.053 1.9927\n",
       "4 0.6846             0.6176            0.026 0.053 1.8993\n",
       "5 0.6816             0.6696            0.029 0.053 1.9611\n",
       "6 0.6506             0.6196            0.029 0.053 1.9931"
      ]
     },
     "metadata": {},
     "output_type": "display_data"
    }
   ],
   "source": [
    "csv_data <- read.csv(\"times_cows.csv\",\n",
    "                     col.names = c(\"statsmodel_formula\", \"statsmodel_matrix\", \"lme4\", \"nlme\", \"mgcv\"))\n",
    "\n",
    "head(csv_data)"
   ]
  },
  {
   "cell_type": "code",
   "execution_count": 3,
   "metadata": {},
   "outputs": [
    {
     "data": {
      "text/html": [
       "<table>\n",
       "<thead><tr><th scope=col>Czas_wykonania</th><th scope=col>Biblioteka</th><th scope=col>Jezyk</th></tr></thead>\n",
       "<tbody>\n",
       "\t<tr><td>0.5667            </td><td>statsmodel_formula</td><td>Python            </td></tr>\n",
       "\t<tr><td>0.6446            </td><td>statsmodel_formula</td><td>Python            </td></tr>\n",
       "\t<tr><td>0.6416            </td><td>statsmodel_formula</td><td>Python            </td></tr>\n",
       "\t<tr><td>0.6846            </td><td>statsmodel_formula</td><td>Python            </td></tr>\n",
       "\t<tr><td>0.6816            </td><td>statsmodel_formula</td><td>Python            </td></tr>\n",
       "\t<tr><td>0.6506            </td><td>statsmodel_formula</td><td>Python            </td></tr>\n",
       "</tbody>\n",
       "</table>\n"
      ],
      "text/latex": [
       "\\begin{tabular}{r|lll}\n",
       " Czas\\_wykonania & Biblioteka & Jezyk\\\\\n",
       "\\hline\n",
       "\t 0.5667               & statsmodel\\_formula & Python              \\\\\n",
       "\t 0.6446               & statsmodel\\_formula & Python              \\\\\n",
       "\t 0.6416               & statsmodel\\_formula & Python              \\\\\n",
       "\t 0.6846               & statsmodel\\_formula & Python              \\\\\n",
       "\t 0.6816               & statsmodel\\_formula & Python              \\\\\n",
       "\t 0.6506               & statsmodel\\_formula & Python              \\\\\n",
       "\\end{tabular}\n"
      ],
      "text/markdown": [
       "\n",
       "| Czas_wykonania | Biblioteka | Jezyk |\n",
       "|---|---|---|\n",
       "| 0.5667             | statsmodel_formula | Python             |\n",
       "| 0.6446             | statsmodel_formula | Python             |\n",
       "| 0.6416             | statsmodel_formula | Python             |\n",
       "| 0.6846             | statsmodel_formula | Python             |\n",
       "| 0.6816             | statsmodel_formula | Python             |\n",
       "| 0.6506             | statsmodel_formula | Python             |\n",
       "\n"
      ],
      "text/plain": [
       "  Czas_wykonania Biblioteka         Jezyk \n",
       "1 0.5667         statsmodel_formula Python\n",
       "2 0.6446         statsmodel_formula Python\n",
       "3 0.6416         statsmodel_formula Python\n",
       "4 0.6846         statsmodel_formula Python\n",
       "5 0.6816         statsmodel_formula Python\n",
       "6 0.6506         statsmodel_formula Python"
      ]
     },
     "metadata": {},
     "output_type": "display_data"
    }
   ],
   "source": [
    "csv_data_2 <- stack(csv_data) %>%\n",
    "    rename(Czas_wykonania = values, Biblioteka = ind) %>%\n",
    "    mutate(Jezyk = ifelse(Biblioteka %in% c(\"statsmodel_formula\", \"statsmodel_matrix\"), \"Python\", \"R\"))\n",
    "\n",
    "head(csv_data_2)"
   ]
  },
  {
   "cell_type": "markdown",
   "metadata": {},
   "source": [
    "## 2. Wizualizacja\n",
    "### 2.1 Zestawienie czasów wykonywania funkcji bibliotek języków Python i R"
   ]
  },
  {
   "cell_type": "code",
   "execution_count": 4,
   "metadata": {
    "scrolled": false
   },
   "outputs": [
    {
     "data": {
      "image/png": "[encoded data removed]",
      "text/plain": [
       "plot without title"
      ]
     },
     "metadata": {},
     "output_type": "display_data"
    }
   ],
   "source": [
    "csv_data_2 %>%\n",
    "      ggplot(aes(x = Biblioteka, y = Czas_wykonania, fill = Biblioteka)) +\n",
    "      ggtitle(\"Rozrzut czasów wykonywania w zależności od języka i biblioteki\") +\n",
    "      ylab(\"Czas wykonania (w sek.)\") +\n",
    "      xlab(\"Biblioteka/deklaracja funkcji\") +\n",
    "      geom_boxplot() +\n",
    "      facet_wrap(~Jezyk, scale = \"free_x\") +\n",
    "      scale_y_continuous(breaks=seq(0, 3, 0.25))"
   ]
  },
  {
   "cell_type": "markdown",
   "metadata": {},
   "source": [
    "### 2.2 Zestawienie czasów wykonywania deklaracji funkcji biblioteki \"statsmodel\" w języku Python"
   ]
  },
  {
   "cell_type": "code",
   "execution_count": 5,
   "metadata": {},
   "outputs": [
    {
     "data": {
      "image/png": "[encoded data removed]",
      "text/plain": [
       "plot without title"
      ]
     },
     "metadata": {},
     "output_type": "display_data"
    }
   ],
   "source": [
    "csv_data_2 %>%\n",
    "    filter(Biblioteka %in% c(\"statsmodel_formula\", \"statsmodel_matrix\")) %>%\n",
    "        ggplot(aes(x = Biblioteka, y = Czas_wykonania, label = Biblioteka)) +\n",
    "        scale_y_continuous(breaks = seq(0, 1, 0.05)) +\n",
    "        ggtitle(\"Rozrzut czasów wykonywania modelu w zależności od jego konstrukcji\") +\n",
    "        ylab(\"Czas wykonania (w sek.)\") +\n",
    "        xlab(\"Biblioteka/deklaracja funkcji\") +\n",
    "        geom_violin(aes(fill = Biblioteka)) + geom_jitter() + geom_boxplot(width = .09, outlier.colour = NA) + geom_rug() +\n",
    "        facet_wrap(~Jezyk)"
   ]
  },
  {
   "cell_type": "markdown",
   "metadata": {},
   "source": [
    "### 2.3 Zestawienie czasów wykonywania funkcji z bibliotek \"lme4\", \"nlme\" i \"bam\" w języku R"
   ]
  },
  {
   "cell_type": "code",
   "execution_count": 6,
   "metadata": {
    "scrolled": false
   },
   "outputs": [
    {
     "data": {
      "image/png": "[encoded data removed]",
      "text/plain": [
       "plot without title"
      ]
     },
     "metadata": {},
     "output_type": "display_data"
    }
   ],
   "source": [
    "csv_data_2 %>%\n",
    "    filter(Biblioteka %in% c(\"lme4\", \"nlme\", \"mgcv\")) %>%\n",
    "        ggplot(aes(x = Biblioteka, y = Czas_wykonania, fill = Biblioteka)) +\n",
    "        scale_y_continuous(breaks = seq(0, 3, 0.5)) +\n",
    "        ylab(\"Czas wykonania (w sek.)\") +\n",
    "        ggtitle(\"Rozrzut czasów wykonywania modelu w zależności od jego konstrukcji\") +\n",
    "        geom_boxplot() +\n",
    "        facet_wrap(~ Jezyk)"
   ]
  },
  {
   "cell_type": "markdown",
   "metadata": {},
   "source": [
    "### 2.4 Zestawienie czasów wykonywania funkcji z bibliotek \"lme4\", \"nlme\" w języku R"
   ]
  },
  {
   "cell_type": "code",
   "execution_count": 7,
   "metadata": {},
   "outputs": [
    {
     "data": {
      "image/png": "[encoded data removed]",
      "text/plain": [
       "plot without title"
      ]
     },
     "metadata": {},
     "output_type": "display_data"
    }
   ],
   "source": [
    "csv_data_2 %>%\n",
    "    filter(Biblioteka %in% c(\"lme4\", \"nlme\")) %>%\n",
    "        ggplot(aes(x=Biblioteka, y=Czas_wykonania, fill=Biblioteka)) +\n",
    "        scale_y_continuous(breaks = seq(0, 0.1, 0.005)) +\n",
    "        ylab(\"Czas wykonania (w sek.)\") +\n",
    "        ggtitle(\"Rozrzut czasów wykonywania modelu w zależności od jego konstrukcji\") +\n",
    "        geom_violin(aes(fill = Biblioteka)) +\n",
    "        geom_jitter() +\n",
    "        geom_boxplot(width = .09, outlier.colour = NA) +\n",
    "        geom_rug() +\n",
    "        facet_wrap(~Jezyk)"
   ]
  },
  {
   "cell_type": "markdown",
   "metadata": {},
   "source": [
    "## 3. Testy statystyczne"
   ]
  },
  {
   "cell_type": "markdown",
   "metadata": {},
   "source": [
    "### 3.1 Sprawdzenie różnic w średnich czasów wykonywania biblioteki statsmodel \"formula\" i \"matrix\" (Python)\n",
    "#### 3.1.1 Sprawdzenie normalności rozkładów\n",
    "##### H0: Czasy wykonywania funkcji z bibliotek mają rozkład normalny\n",
    "###### HA: Czasy wykonywania funkcji z bibliotek nie mają rozkładu normalnego"
   ]
  },
  {
   "cell_type": "code",
   "execution_count": 8,
   "metadata": {},
   "outputs": [
    {
     "name": "stdout",
     "output_type": "stream",
     "text": [
      "\n",
      "\tShapiro-Wilk normality test\n",
      "\n",
      "data:  csv_data_2$Czas_wykonania[csv_data_2$Biblioteka == i]\n",
      "W = 0.87306, p-value = 9.33e-08\n",
      "\n",
      "\n",
      "\tShapiro-Wilk normality test\n",
      "\n",
      "data:  csv_data_2$Czas_wykonania[csv_data_2$Biblioteka == i]\n",
      "W = 0.99045, p-value = 0.7006\n",
      "\n"
     ]
    }
   ],
   "source": [
    "for(i in c(\"statsmodel_formula\", \"statsmodel_matrix\")) {\n",
    "    print(shapiro.test(csv_data_2$Czas_wykonania[csv_data_2$Biblioteka == i]))\n",
    "}"
   ]
  },
  {
   "cell_type": "markdown",
   "metadata": {},
   "source": [
    "##### Wniosek: Brak normalności rozkładów"
   ]
  },
  {
   "cell_type": "markdown",
   "metadata": {},
   "source": [
    "#### 3.1.2 Test Wilcoxona (nieparametryczny)\n",
    "###### H0: Średnie czasy wykonywania deklaracji funkcji \"formula\" i \"matrix\" nie różnią się.\n",
    "###### HA: Średni czas wykonywania deklaracji funkcji \"formula\" jest większy niż \"matrix\"."
   ]
  },
  {
   "cell_type": "code",
   "execution_count": 9,
   "metadata": {},
   "outputs": [
    {
     "data": {
      "text/plain": [
       "\n",
       "\tWilcoxon rank sum test with continuity correction\n",
       "\n",
       "data:  csv_data$statsmodel_formula and csv_data$statsmodel_matrix\n",
       "W = 7313, p-value = 7.988e-09\n",
       "alternative hypothesis: true location shift is greater than 0\n"
      ]
     },
     "metadata": {},
     "output_type": "display_data"
    }
   ],
   "source": [
    "wilcox.test(csv_data$statsmodel_formula, csv_data$statsmodel_matrix, alternative = \"greater\")"
   ]
  },
  {
   "cell_type": "markdown",
   "metadata": {},
   "source": [
    "##### Wniosek: Średni czas wykonywania deklaracji funkcji \"formula\" jest większy niż \"matrix\"."
   ]
  },
  {
   "cell_type": "markdown",
   "metadata": {},
   "source": [
    "### 3.2 Sprawdzenie różnic w średnich czasach wykonywania wszystkich bibliotek\n",
    "#### 3.2.1 Nieparametryczna ANOVA - do sprawdzenia, czy średnie czasy wszystkich funkcji są równe\n",
    "###### > H0: Średnie czasy wykonywania funkcji nie różnią się.\n",
    "###### > HA: Średnie czasy wykonywania różnią się dla przynajmniej jednej pary funkcji."
   ]
  },
  {
   "cell_type": "code",
   "execution_count": 10,
   "metadata": {},
   "outputs": [
    {
     "data": {
      "text/plain": [
       "\n",
       "\tKruskal-Wallis rank sum test\n",
       "\n",
       "data:  csv_data\n",
       "Kruskal-Wallis chi-squared = 460.39, df = 4, p-value < 2.2e-16\n"
      ]
     },
     "metadata": {},
     "output_type": "display_data"
    }
   ],
   "source": [
    "kruskal.test(csv_data)"
   ]
  },
  {
   "cell_type": "markdown",
   "metadata": {},
   "source": [
    "##### > Wniosek: Średnie czasy wykonywania różnią się dla przynajmniej jednej pary funkcji."
   ]
  },
  {
   "cell_type": "markdown",
   "metadata": {},
   "source": [
    "#### 3.2.2 Test Dunneta - do sprawdzenia istotności różnic w grupach (funkcjach)"
   ]
  },
  {
   "cell_type": "code",
   "execution_count": 11,
   "metadata": {},
   "outputs": [
    {
     "data": {
      "text/html": [
       "<table>\n",
       "<thead><tr><th></th><th scope=col>Comparison</th><th scope=col>Z</th><th scope=col>P.unadj</th><th scope=col>P.adj</th></tr></thead>\n",
       "<tbody>\n",
       "\t<tr><th scope=row>1</th><td>lme4 - mgcv                           </td><td>-19.580069                            </td><td>2.287113e-85                          </td><td>2.287113e-84                          </td></tr>\n",
       "\t<tr><th scope=row>3</th><td>mgcv - nlme                           </td><td> 14.685052                            </td><td>8.037299e-49                          </td><td>7.233569e-48                          </td></tr>\n",
       "\t<tr><th scope=row>4</th><td>lme4 - statsmodel_formula             </td><td>-13.369760                            </td><td>9.083286e-41                          </td><td>7.266628e-40                          </td></tr>\n",
       "\t<tr><th scope=row>7</th><td>lme4 - statsmodel_matrix              </td><td>-11.105326                            </td><td>1.181859e-28                          </td><td>8.273013e-28                          </td></tr>\n",
       "\t<tr><th scope=row>6</th><td>nlme - statsmodel_formula             </td><td> -8.474743                            </td><td>2.355985e-17                          </td><td>1.413591e-16                          </td></tr>\n",
       "\t<tr><th scope=row>8</th><td>mgcv - statsmodel_matrix              </td><td>  8.474743                            </td><td>2.355985e-17                          </td><td>1.177992e-16                          </td></tr>\n",
       "\t<tr><th scope=row>5</th><td>mgcv - statsmodel_formula             </td><td>  6.210308                            </td><td>5.288074e-10                          </td><td>2.115230e-09                          </td></tr>\n",
       "\t<tr><th scope=row>9</th><td>nlme - statsmodel_matrix              </td><td> -6.210308                            </td><td>5.288074e-10                          </td><td>1.586422e-09                          </td></tr>\n",
       "\t<tr><th scope=row>2</th><td>lme4 - nlme                           </td><td> -4.895017                            </td><td>9.829713e-07                          </td><td>1.965943e-06                          </td></tr>\n",
       "\t<tr><th scope=row>10</th><td>statsmodel_formula - statsmodel_matrix</td><td>  2.264435                            </td><td>2.354738e-02                          </td><td>2.354738e-02                          </td></tr>\n",
       "</tbody>\n",
       "</table>\n"
      ],
      "text/latex": [
       "\\begin{tabular}{r|llll}\n",
       "  & Comparison & Z & P.unadj & P.adj\\\\\n",
       "\\hline\n",
       "\t1 & lme4 - mgcv                            & -19.580069                             & 2.287113e-85                           & 2.287113e-84                          \\\\\n",
       "\t3 & mgcv - nlme                            &  14.685052                             & 8.037299e-49                           & 7.233569e-48                          \\\\\n",
       "\t4 & lme4 - statsmodel\\_formula              & -13.369760                               & 9.083286e-41                             & 7.266628e-40                            \\\\\n",
       "\t7 & lme4 - statsmodel\\_matrix               & -11.105326                               & 1.181859e-28                             & 8.273013e-28                            \\\\\n",
       "\t6 & nlme - statsmodel\\_formula              &  -8.474743                               & 2.355985e-17                             & 1.413591e-16                            \\\\\n",
       "\t8 & mgcv - statsmodel\\_matrix               &   8.474743                               & 2.355985e-17                             & 1.177992e-16                            \\\\\n",
       "\t5 & mgcv - statsmodel\\_formula              &   6.210308                               & 5.288074e-10                             & 2.115230e-09                            \\\\\n",
       "\t9 & nlme - statsmodel\\_matrix               &  -6.210308                               & 5.288074e-10                             & 1.586422e-09                            \\\\\n",
       "\t2 & lme4 - nlme                            &  -4.895017                             & 9.829713e-07                           & 1.965943e-06                          \\\\\n",
       "\t10 & statsmodel\\_formula - statsmodel\\_matrix &   2.264435                                 & 2.354738e-02                               & 2.354738e-02                              \\\\\n",
       "\\end{tabular}\n"
      ],
      "text/markdown": [
       "\n",
       "| <!--/--> | Comparison | Z | P.unadj | P.adj |\n",
       "|---|---|---|---|---|\n",
       "| 1 | lme4 - mgcv                            | -19.580069                             | 2.287113e-85                           | 2.287113e-84                           |\n",
       "| 3 | mgcv - nlme                            |  14.685052                             | 8.037299e-49                           | 7.233569e-48                           |\n",
       "| 4 | lme4 - statsmodel_formula              | -13.369760                             | 9.083286e-41                           | 7.266628e-40                           |\n",
       "| 7 | lme4 - statsmodel_matrix               | -11.105326                             | 1.181859e-28                           | 8.273013e-28                           |\n",
       "| 6 | nlme - statsmodel_formula              |  -8.474743                             | 2.355985e-17                           | 1.413591e-16                           |\n",
       "| 8 | mgcv - statsmodel_matrix               |   8.474743                             | 2.355985e-17                           | 1.177992e-16                           |\n",
       "| 5 | mgcv - statsmodel_formula              |   6.210308                             | 5.288074e-10                           | 2.115230e-09                           |\n",
       "| 9 | nlme - statsmodel_matrix               |  -6.210308                             | 5.288074e-10                           | 1.586422e-09                           |\n",
       "| 2 | lme4 - nlme                            |  -4.895017                             | 9.829713e-07                           | 1.965943e-06                           |\n",
       "| 10 | statsmodel_formula - statsmodel_matrix |   2.264435                             | 2.354738e-02                           | 2.354738e-02                           |\n",
       "\n"
      ],
      "text/plain": [
       "   Comparison                             Z          P.unadj      P.adj       \n",
       "1  lme4 - mgcv                            -19.580069 2.287113e-85 2.287113e-84\n",
       "3  mgcv - nlme                             14.685052 8.037299e-49 7.233569e-48\n",
       "4  lme4 - statsmodel_formula              -13.369760 9.083286e-41 7.266628e-40\n",
       "7  lme4 - statsmodel_matrix               -11.105326 1.181859e-28 8.273013e-28\n",
       "6  nlme - statsmodel_formula               -8.474743 2.355985e-17 1.413591e-16\n",
       "8  mgcv - statsmodel_matrix                 8.474743 2.355985e-17 1.177992e-16\n",
       "5  mgcv - statsmodel_formula                6.210308 5.288074e-10 2.115230e-09\n",
       "9  nlme - statsmodel_matrix                -6.210308 5.288074e-10 1.586422e-09\n",
       "2  lme4 - nlme                             -4.895017 9.829713e-07 1.965943e-06\n",
       "10 statsmodel_formula - statsmodel_matrix   2.264435 2.354738e-02 2.354738e-02"
      ]
     },
     "metadata": {},
     "output_type": "display_data"
    }
   ],
   "source": [
    "dun <- dunnTest(Czas_wykonania~Biblioteka, data = csv_data_2, kw = TRUE)\n",
    "\n",
    "dun$res[order(abs(dun$res[2]), decreasing = TRUE),]"
   ]
  },
  {
   "cell_type": "markdown",
   "metadata": {},
   "source": [
    "##### > Wniosek: We wszystkich parach średnie czasy wykonywania różnią się. Największa różnica występuje między bibliotekami \"mgcv\" i \"lme4\" w języku R, natomiast najmniejsza - \"statsmodel_formula\" i \"statsmodel_matrix\" w języku Python."
   ]
  }
 ],
 "metadata": {
  "kernelspec": {
   "display_name": "R",
   "language": "R",
   "name": "ir"
  },
  "language_info": {
   "codemirror_mode": "r",
   "file_extension": ".r",
   "mimetype": "text/x-r-source",
   "name": "R",
   "pygments_lexer": "r",
   "version": "3.6.1"
  }
 },
 "nbformat": 4,
 "nbformat_minor": 4
}
