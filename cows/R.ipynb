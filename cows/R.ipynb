{
 "cells": [
  {
   "cell_type": "markdown",
   "metadata": {},
   "source": [
    "# <center>R: Porównanie algorytmów</center>\n",
    "---\n",
    "## 1. Konstrukcja modeli i mierników parametrów\n",
    "### 1.1 Biblioteki i edycja danych\n",
    "#### > Biblioteki"
   ]
  },
  {
   "cell_type": "code",
   "execution_count": 1,
   "metadata": {},
   "outputs": [
    {
     "name": "stderr",
     "output_type": "stream",
     "text": [
      "Warning message:\n",
      "\"package 'dplyr' was built under R version 3.6.3\"\n",
      "Attaching package: 'dplyr'\n",
      "\n",
      "The following objects are masked from 'package:stats':\n",
      "\n",
      "    filter, lag\n",
      "\n",
      "The following objects are masked from 'package:base':\n",
      "\n",
      "    intersect, setdiff, setequal, union\n",
      "\n",
      "Warning message:\n",
      "\"package 'tidyr' was built under R version 3.6.3\"Warning message:\n",
      "\"package 'lme4' was built under R version 3.6.3\"Loading required package: Matrix\n",
      "Warning message:\n",
      "\"package 'Matrix' was built under R version 3.6.3\"\n",
      "Attaching package: 'Matrix'\n",
      "\n",
      "The following objects are masked from 'package:tidyr':\n",
      "\n",
      "    expand, pack, unpack\n",
      "\n",
      "Warning message:\n",
      "\"package 'nlme' was built under R version 3.6.3\"\n",
      "Attaching package: 'nlme'\n",
      "\n",
      "The following object is masked from 'package:lme4':\n",
      "\n",
      "    lmList\n",
      "\n",
      "The following object is masked from 'package:dplyr':\n",
      "\n",
      "    collapse\n",
      "\n",
      "Warning message:\n",
      "\"package 'mgcv' was built under R version 3.6.3\"This is mgcv 1.8-31. For overview type 'help(\"mgcv-package\")'.\n",
      "Warning message:\n",
      "\"package 'profmem' was built under R version 3.6.3\""
     ]
    }
   ],
   "source": [
    "library(dplyr)\n",
    "library(tidyr)\n",
    "library(lme4)\n",
    "library(nlme)\n",
    "library(mgcv)\n",
    "library(profmem)"
   ]
  },
  {
   "cell_type": "markdown",
   "metadata": {},
   "source": [
    "#### > Wczytanie i edycja danych"
   ]
  },
  {
   "cell_type": "code",
   "execution_count": 2,
   "metadata": {
    "scrolled": true
   },
   "outputs": [
    {
     "data": {
      "text/html": [
       "<table>\n",
       "<thead><tr><th scope=col>cow.id</th><th scope=col>btn3a1</th><th scope=col>lactation</th><th scope=col>milk</th><th scope=col>fat</th></tr></thead>\n",
       "<tbody>\n",
       "\t<tr><td>1   </td><td>1   </td><td>1   </td><td>7770</td><td>358 </td></tr>\n",
       "\t<tr><td>2   </td><td>1   </td><td>1   </td><td>7341</td><td>376 </td></tr>\n",
       "\t<tr><td>3   </td><td>1   </td><td>1   </td><td>6998</td><td>294 </td></tr>\n",
       "\t<tr><td>3   </td><td>1   </td><td>2   </td><td>8564</td><td>331 </td></tr>\n",
       "\t<tr><td>3   </td><td>1   </td><td>3   </td><td>8621</td><td>330 </td></tr>\n",
       "\t<tr><td>4   </td><td>1   </td><td>1   </td><td>9536</td><td>365 </td></tr>\n",
       "</tbody>\n",
       "</table>\n"
      ],
      "text/latex": [
       "\\begin{tabular}{r|lllll}\n",
       " cow.id & btn3a1 & lactation & milk & fat\\\\\n",
       "\\hline\n",
       "\t 1    & 1    & 1    & 7770 & 358 \\\\\n",
       "\t 2    & 1    & 1    & 7341 & 376 \\\\\n",
       "\t 3    & 1    & 1    & 6998 & 294 \\\\\n",
       "\t 3    & 1    & 2    & 8564 & 331 \\\\\n",
       "\t 3    & 1    & 3    & 8621 & 330 \\\\\n",
       "\t 4    & 1    & 1    & 9536 & 365 \\\\\n",
       "\\end{tabular}\n"
      ],
      "text/markdown": [
       "\n",
       "| cow.id | btn3a1 | lactation | milk | fat |\n",
       "|---|---|---|---|---|\n",
       "| 1    | 1    | 1    | 7770 | 358  |\n",
       "| 2    | 1    | 1    | 7341 | 376  |\n",
       "| 3    | 1    | 1    | 6998 | 294  |\n",
       "| 3    | 1    | 2    | 8564 | 331  |\n",
       "| 3    | 1    | 3    | 8621 | 330  |\n",
       "| 4    | 1    | 1    | 9536 | 365  |\n",
       "\n"
      ],
      "text/plain": [
       "  cow.id btn3a1 lactation milk fat\n",
       "1 1      1      1         7770 358\n",
       "2 2      1      1         7341 376\n",
       "3 3      1      1         6998 294\n",
       "4 3      1      2         8564 331\n",
       "5 3      1      3         8621 330\n",
       "6 4      1      1         9536 365"
      ]
     },
     "metadata": {},
     "output_type": "display_data"
    }
   ],
   "source": [
    "data_set <- read.csv2(\"cows.csv\")\n",
    "\n",
    "cols <- c(\"cow.id\", \"btn3a1\", \"lactation\")\n",
    "data_set[cols] <- lapply(data_set[cols], factor)\n",
    "\n",
    "head(data_set)"
   ]
  },
  {
   "cell_type": "markdown",
   "metadata": {},
   "source": [
    "### 1.2 Funkcje\n",
    "#### > Funkcja tworząca modele"
   ]
  },
  {
   "cell_type": "code",
   "execution_count": 3,
   "metadata": {},
   "outputs": [],
   "source": [
    "LMM <- function(model) {\n",
    "  if(model == \"lme4\") {\n",
    "    LMM_lme4 <- lmer(data=data_set, milk ~ btn3a1 + lactation + (1|cow.id))\n",
    "    return(LMM_lme4)\n",
    "  }\n",
    "  else if(model == \"nlme\") {\n",
    "    LMM_nlme <- lme(data = data_set, milk ~ btn3a1 + lactation, random = ~1|cow.id)\n",
    "    return(LMM_nlme)\n",
    "  }\n",
    "  else if(model == \"bam\") {\n",
    "    LMM_bam <- bam(data = data_set, milk ~ btn3a1 + lactation + s(cow.id, bs = \"re\"))\n",
    "    return(LMM_bam)\n",
    "  }\n",
    "}"
   ]
  },
  {
   "cell_type": "markdown",
   "metadata": {},
   "source": [
    "#### > Funkcja sprawdzająca czas"
   ]
  },
  {
   "cell_type": "code",
   "execution_count": 4,
   "metadata": {},
   "outputs": [],
   "source": [
    "check_time <- function(model, n) {\n",
    "  times <- c()\n",
    "\n",
    "  for(i in 1:n) {\n",
    "    start_time <- Sys.time()\n",
    "    LMM(model)\n",
    "    end_time <- Sys.time()\n",
    "    times <- c(times, round(end_time - start_time, 4))\n",
    "    }\n",
    "    return(times)\n",
    "  }"
   ]
  },
  {
   "cell_type": "markdown",
   "metadata": {},
   "source": [
    "#### > Funkcja mierząca ilość zużytego RAMu"
   ]
  },
  {
   "cell_type": "code",
   "execution_count": 5,
   "metadata": {},
   "outputs": [],
   "source": [
    "check_RAM <- function(model) {\n",
    "  prof_mem <- profmem({\n",
    "    LMM(model)\n",
    "      })\n",
    "  sum_in_MB <- round(sum(prof_mem$bytes[!is.na(prof_mem$bytes)]) * 1e-6, 4)\n",
    "  return(sum_in_MB)\n",
    "}"
   ]
  },
  {
   "cell_type": "markdown",
   "metadata": {},
   "source": [
    "## 2. Symulacje\n",
    "### 2.1 Podsumowanie modeli\n",
    "#### > lme4"
   ]
  },
  {
   "cell_type": "code",
   "execution_count": 6,
   "metadata": {
    "scrolled": true
   },
   "outputs": [
    {
     "data": {
      "text/plain": [
       "Linear mixed model fit by REML ['lmerMod']\n",
       "Formula: milk ~ btn3a1 + lactation + (1 | cow.id)\n",
       "   Data: data_set\n",
       "\n",
       "REML criterion at convergence: 17303.6\n",
       "\n",
       "Scaled residuals: \n",
       "    Min      1Q  Median      3Q     Max \n",
       "-2.6325 -0.5378  0.0279  0.5505  3.2110 \n",
       "\n",
       "Random effects:\n",
       " Groups   Name        Variance Std.Dev.\n",
       " cow.id   (Intercept) 1240403  1114    \n",
       " Residual             1252911  1119    \n",
       "Number of obs: 1000, groups:  cow.id, 409\n",
       "\n",
       "Fixed effects:\n",
       "            Estimate Std. Error t value\n",
       "(Intercept)  6699.45      81.08  82.632\n",
       "btn3a12      -244.08     235.12  -1.038\n",
       "lactation2   1307.04      84.63  15.443\n",
       "lactation3   1800.54     102.10  17.635\n",
       "lactation4   1669.27     176.45   9.460\n",
       "\n",
       "Correlation of Fixed Effects:\n",
       "           (Intr) btn312 lcttn2 lcttn3\n",
       "btn3a12    -0.269                     \n",
       "lactation2 -0.454  0.029              \n",
       "lactation3 -0.374  0.015  0.395       \n",
       "lactation4 -0.214  0.000  0.228  0.234"
      ]
     },
     "metadata": {},
     "output_type": "display_data"
    }
   ],
   "source": [
    " summary(LMM(\"lme4\"))"
   ]
  },
  {
   "cell_type": "markdown",
   "metadata": {},
   "source": [
    "#### > nlme"
   ]
  },
  {
   "cell_type": "code",
   "execution_count": 7,
   "metadata": {
    "scrolled": false
   },
   "outputs": [
    {
     "data": {
      "text/plain": [
       "Linear mixed-effects model fit by REML\n",
       " Data: data_set \n",
       "       AIC      BIC    logLik\n",
       "  17317.63 17351.95 -8651.814\n",
       "\n",
       "Random effects:\n",
       " Formula: ~1 | cow.id\n",
       "        (Intercept) Residual\n",
       "StdDev:    1113.734 1119.335\n",
       "\n",
       "Fixed effects: milk ~ btn3a1 + lactation \n",
       "               Value Std.Error  DF  t-value p-value\n",
       "(Intercept) 6699.448  81.07595 588 82.63175  0.0000\n",
       "btn3a12     -244.084 235.11696 407 -1.03814  0.2998\n",
       "lactation2  1307.037  84.63442 588 15.44332  0.0000\n",
       "lactation3  1800.538 102.10172 588 17.63475  0.0000\n",
       "lactation4  1669.272 176.44866 588  9.46038  0.0000\n",
       " Correlation: \n",
       "           (Intr) btn312 lcttn2 lcttn3\n",
       "btn3a12    -0.269                     \n",
       "lactation2 -0.454  0.029              \n",
       "lactation3 -0.374  0.015  0.395       \n",
       "lactation4 -0.214  0.000  0.228  0.234\n",
       "\n",
       "Standardized Within-Group Residuals:\n",
       "        Min          Q1         Med          Q3         Max \n",
       "-2.63253348 -0.53779599  0.02789544  0.55054475  3.21103225 \n",
       "\n",
       "Number of Observations: 1000\n",
       "Number of Groups: 409 "
      ]
     },
     "metadata": {},
     "output_type": "display_data"
    }
   ],
   "source": [
    "summary(LMM(\"nlme\"))"
   ]
  },
  {
   "cell_type": "markdown",
   "metadata": {},
   "source": [
    "#### > bam"
   ]
  },
  {
   "cell_type": "code",
   "execution_count": 8,
   "metadata": {},
   "outputs": [
    {
     "data": {
      "text/plain": [
       "\n",
       "Family: gaussian \n",
       "Link function: identity \n",
       "\n",
       "Formula:\n",
       "milk ~ btn3a1 + lactation + s(cow.id, bs = \"re\")\n",
       "\n",
       "Parametric coefficients:\n",
       "            Estimate Std. Error t value Pr(>|t|)    \n",
       "(Intercept)  6699.45      81.08  82.632   <2e-16 ***\n",
       "btn3a12      -244.08     235.12  -1.038      0.3    \n",
       "lactation2   1307.04      84.63  15.443   <2e-16 ***\n",
       "lactation3   1800.54     102.10  17.635   <2e-16 ***\n",
       "lactation4   1669.27     176.45   9.460   <2e-16 ***\n",
       "---\n",
       "Signif. codes:  0 '***' 0.001 '**' 0.01 '*' 0.05 '.' 0.1 ' ' 1\n",
       "\n",
       "Approximate significance of smooth terms:\n",
       "            edf Ref.df     F p-value    \n",
       "s(cow.id) 277.4    407 2.351  <2e-16 ***\n",
       "---\n",
       "Signif. codes:  0 '***' 0.001 '**' 0.01 '*' 0.05 '.' 0.1 ' ' 1\n",
       "\n",
       "R-sq.(adj) =  0.577   Deviance explained = 69.6%\n",
       "fREML = 8651.8  Scale est. = 1.2529e+06  n = 1000"
      ]
     },
     "metadata": {},
     "output_type": "display_data"
    }
   ],
   "source": [
    "summary(LMM(\"bam\"))"
   ]
  },
  {
   "cell_type": "markdown",
   "metadata": {},
   "source": [
    "### 2.2 Sprawdzenie czasu konstrukcji modeli\n",
    "#### > 1000 razy z użyciem funkcji check_time(model, n)"
   ]
  },
  {
   "cell_type": "code",
   "execution_count": 9,
   "metadata": {
    "scrolled": true
   },
   "outputs": [],
   "source": [
    "LMM_lme4_times <- check_time(\"lme4\", 100)\n",
    "LMM_nlme_times <- check_time(\"nlme\", 100)\n",
    "LMM_bam_times <- check_time(\"bam\", 100)"
   ]
  },
  {
   "cell_type": "code",
   "execution_count": 10,
   "metadata": {},
   "outputs": [
    {
     "name": "stderr",
     "output_type": "stream",
     "text": [
      "`summarise()` ungrouping output (override with `.groups` argument)\n"
     ]
    },
    {
     "data": {
      "text/html": [
       "<table>\n",
       "<thead><tr><th scope=col>comb_DF</th><th scope=col>mean</th><th scope=col>sd</th><th scope=col>min</th><th scope=col>max</th></tr></thead>\n",
       "<tbody>\n",
       "\t<tr><td>LMM_lme4_times</td><td>0.033781      </td><td>0.005709901   </td><td>0.0280        </td><td>0.0560        </td></tr>\n",
       "\t<tr><td>LMM_nlme_times</td><td>0.065341      </td><td>0.012969997   </td><td>0.0530        </td><td>0.1339        </td></tr>\n",
       "\t<tr><td>LMM_bam_times </td><td>2.243028      </td><td>0.288742667   </td><td>1.9158        </td><td>3.1509        </td></tr>\n",
       "</tbody>\n",
       "</table>\n"
      ],
      "text/latex": [
       "\\begin{tabular}{r|lllll}\n",
       " comb\\_DF & mean & sd & min & max\\\\\n",
       "\\hline\n",
       "\t LMM\\_lme4\\_times & 0.033781           & 0.005709901        & 0.0280             & 0.0560            \\\\\n",
       "\t LMM\\_nlme\\_times & 0.065341           & 0.012969997        & 0.0530             & 0.1339            \\\\\n",
       "\t LMM\\_bam\\_times  & 2.243028           & 0.288742667        & 1.9158             & 3.1509            \\\\\n",
       "\\end{tabular}\n"
      ],
      "text/markdown": [
       "\n",
       "| comb_DF | mean | sd | min | max |\n",
       "|---|---|---|---|---|\n",
       "| LMM_lme4_times | 0.033781       | 0.005709901    | 0.0280         | 0.0560         |\n",
       "| LMM_nlme_times | 0.065341       | 0.012969997    | 0.0530         | 0.1339         |\n",
       "| LMM_bam_times  | 2.243028       | 0.288742667    | 1.9158         | 3.1509         |\n",
       "\n"
      ],
      "text/plain": [
       "  comb_DF        mean     sd          min    max   \n",
       "1 LMM_lme4_times 0.033781 0.005709901 0.0280 0.0560\n",
       "2 LMM_nlme_times 0.065341 0.012969997 0.0530 0.1339\n",
       "3 LMM_bam_times  2.243028 0.288742667 1.9158 3.1509"
      ]
     },
     "metadata": {},
     "output_type": "display_data"
    }
   ],
   "source": [
    "comb_DF <- data.frame(cbind(LMM_lme4_times, LMM_nlme_times, LMM_bam_times)) %>%\n",
    "    gather(comb_DF, factor_key = TRUE) %>%\n",
    "    group_by(comb_DF) %>%\n",
    "    summarise(mean = mean(value), sd = sd(value), min = min(value), max = max(value))\n",
    "\n",
    "comb_DF"
   ]
  },
  {
   "cell_type": "markdown",
   "metadata": {},
   "source": [
    "### 2.3 Sprawdzenie zużytej pamięci RAM\n",
    "#### > Z użyciem funkcji check_RAM(model)"
   ]
  },
  {
   "cell_type": "code",
   "execution_count": 11,
   "metadata": {},
   "outputs": [
    {
     "data": {
      "text/html": [
       "<table>\n",
       "<thead><tr><th scope=col>lme4_RAM</th><th scope=col>nlme_RAM</th><th scope=col>bam_RAM</th></tr></thead>\n",
       "<tbody>\n",
       "\t<tr><td>2.4157  </td><td>3.663   </td><td>326.9825</td></tr>\n",
       "</tbody>\n",
       "</table>\n"
      ],
      "text/latex": [
       "\\begin{tabular}{r|lll}\n",
       " lme4\\_RAM & nlme\\_RAM & bam\\_RAM\\\\\n",
       "\\hline\n",
       "\t 2.4157   & 3.663    & 326.9825\\\\\n",
       "\\end{tabular}\n"
      ],
      "text/markdown": [
       "\n",
       "| lme4_RAM | nlme_RAM | bam_RAM |\n",
       "|---|---|---|\n",
       "| 2.4157   | 3.663    | 326.9825 |\n",
       "\n"
      ],
      "text/plain": [
       "  lme4_RAM nlme_RAM bam_RAM \n",
       "1 2.4157   3.663    326.9825"
      ]
     },
     "metadata": {},
     "output_type": "display_data"
    }
   ],
   "source": [
    "lme4_RAM <- check_RAM(\"lme4\")\n",
    "nlme_RAM <- check_RAM(\"nlme\")\n",
    "bam_RAM <- check_RAM(\"bam\")\n",
    "\n",
    "data.frame(lme4_RAM, nlme_RAM, bam_RAM)"
   ]
  },
  {
   "cell_type": "markdown",
   "metadata": {},
   "source": [
    "#### > Z użyciem wbudowanego w R narzędzia profilowania z wynikiem \"memprof0.out\"\n",
    "https://rpubs.com/kamilpytlak/LMM_cows"
   ]
  }
 ],
 "metadata": {
  "kernelspec": {
   "display_name": "R",
   "language": "R",
   "name": "ir"
  },
  "language_info": {
   "codemirror_mode": "r",
   "file_extension": ".r",
   "mimetype": "text/x-r-source",
   "name": "R",
   "pygments_lexer": "r",
   "version": "3.6.1"
  }
 },
 "nbformat": 4,
 "nbformat_minor": 4
}
