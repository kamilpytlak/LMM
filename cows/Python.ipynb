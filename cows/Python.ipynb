{
 "cells": [
  {
   "cell_type": "markdown",
   "metadata": {},
   "source": [
    "# <center>Python: Porównanie algorytmów</center>\n",
    "---\n",
    "## 1. Konstrukcja modeli i mierników parametrów\n",
    "### 1.1 Biblioteki i edycja danych\n",
    "#### > Biblioteki"
   ]
  },
  {
   "cell_type": "code",
   "execution_count": 1,
   "metadata": {},
   "outputs": [],
   "source": [
    "import pandas as pd\n",
    "from statistics import mean, stdev\n",
    "import statsmodels.api as sm\n",
    "import statsmodels.formula.api as smf\n",
    "from patsy import dmatrices\n",
    "import time\n",
    "%load_ext line_profiler\n",
    "%load_ext memory_profiler"
   ]
  },
  {
   "cell_type": "markdown",
   "metadata": {},
   "source": [
    "#### > Wczytanie i edycja danych"
   ]
  },
  {
   "cell_type": "code",
   "execution_count": 2,
   "metadata": {},
   "outputs": [
    {
     "name": "stdout",
     "output_type": "stream",
     "text": [
      "   cow.id btn3a1 lactation  milk  fat\n",
      "0       1      1         1  7770  358\n",
      "1       2      1         1  7341  376\n",
      "2       3      1         1  6998  294\n",
      "3       3      1         2  8564  331\n",
      "4       3      1         3  8621  330\n"
     ]
    }
   ],
   "source": [
    "data_set = pd.read_csv(\"cows.csv\", delimiter=\";\")\n",
    "\n",
    "cols = [\"btn3a1\", \"lactation\"]\n",
    "for col in cols:\n",
    "    data_set[col] = data_set[col].astype(\"category\")\n",
    "    \n",
    "print(data_set.head())\n",
    "\n",
    "# Formuła\n",
    "formula = \"milk~btn3a1+lactation\"\n",
    "\n",
    "# # Macierz\n",
    "y, X = dmatrices(formula, data=data_set, return_type=\"dataframe\")\n",
    "groups = data_set[\"cow.id\"]"
   ]
  },
  {
   "cell_type": "markdown",
   "metadata": {},
   "source": [
    "### 1.2 Funkcje\n",
    "#### > Funkcja tworząca modele"
   ]
  },
  {
   "cell_type": "code",
   "execution_count": 3,
   "metadata": {},
   "outputs": [],
   "source": [
    "def LMM(model):\n",
    "    if model == \"formula\":\n",
    "        LMM_formula = smf.mixedlm(formula, data_set, groups=groups)\n",
    "        LMMF_formula = LMM_formula.fit()\n",
    "        return LMMF_formula\n",
    "\n",
    "    elif model == \"matrix\":\n",
    "        LMM_matrix = sm.MixedLM(y, X, groups=groups)\n",
    "        LMMF_matrix = LMM_matrix.fit()\n",
    "        return LMMF_matrix"
   ]
  },
  {
   "cell_type": "markdown",
   "metadata": {},
   "source": [
    "#### > Funkcja sprawdzająca czas"
   ]
  },
  {
   "cell_type": "code",
   "execution_count": 4,
   "metadata": {},
   "outputs": [],
   "source": [
    "def check_time(model, n):\n",
    "    times = []\n",
    "\n",
    "    for i in range(n):\n",
    "        start_time = time.time()\n",
    "        LMM(model)\n",
    "        end_time = time.time()\n",
    "        times.append(round(end_time - start_time, 4))\n",
    "    return times"
   ]
  },
  {
   "cell_type": "markdown",
   "metadata": {},
   "source": [
    "## 2. Symulacje\n",
    "### 2.1 Podsumowanie modeli\n",
    "#### > statsmodel \"formula\""
   ]
  },
  {
   "cell_type": "code",
   "execution_count": 5,
   "metadata": {},
   "outputs": [
    {
     "data": {
      "text/html": [
       "<table class=\"simpletable\">\n",
       "<tr>\n",
       "       <td>Model:</td>       <td>MixedLM</td> <td>Dependent Variable:</td>     <td>milk</td>    \n",
       "</tr>\n",
       "<tr>\n",
       "  <td>No. Observations:</td>  <td>1000</td>         <td>Method:</td>           <td>REML</td>    \n",
       "</tr>\n",
       "<tr>\n",
       "     <td>No. Groups:</td>      <td>409</td>         <td>Scale:</td>        <td>1252913.7714</td>\n",
       "</tr>\n",
       "<tr>\n",
       "  <td>Min. group size:</td>     <td>1</td>      <td>Log-Likelihood:</td>    <td>-8651.8138</td> \n",
       "</tr>\n",
       "<tr>\n",
       "  <td>Max. group size:</td>     <td>4</td>        <td>Converged:</td>           <td>Yes</td>    \n",
       "</tr>\n",
       "<tr>\n",
       "  <td>Mean group size:</td>    <td>2.4</td>            <td></td>                 <td></td>      \n",
       "</tr>\n",
       "</table>\n",
       "<table class=\"simpletable\">\n",
       "<tr>\n",
       "         <td></td>           <th>Coef.</th>    <th>Std.Err.</th>    <th>z</th>   <th>P>|z|</th>  <th>[0.025</th>   <th>0.975]</th> \n",
       "</tr>\n",
       "<tr>\n",
       "  <th>Intercept</th>       <td>6699.448</td>    <td>81.078</td>  <td>82.630</td> <td>0.000</td> <td>6540.538</td> <td>6858.358</td>\n",
       "</tr>\n",
       "<tr>\n",
       "  <th>btn3a1[T.2]</th>     <td>-244.084</td>    <td>235.197</td> <td>-1.038</td> <td>0.299</td> <td>-705.062</td>  <td>216.894</td>\n",
       "</tr>\n",
       "<tr>\n",
       "  <th>lactation[T.2]</th>  <td>1307.037</td>    <td>84.712</td>  <td>15.429</td> <td>0.000</td> <td>1141.005</td> <td>1473.069</td>\n",
       "</tr>\n",
       "<tr>\n",
       "  <th>lactation[T.3]</th>  <td>1800.538</td>    <td>102.283</td> <td>17.604</td> <td>0.000</td> <td>1600.067</td> <td>2001.008</td>\n",
       "</tr>\n",
       "<tr>\n",
       "  <th>lactation[T.4]</th>  <td>1669.271</td>    <td>177.492</td>  <td>9.405</td> <td>0.000</td> <td>1321.394</td> <td>2017.148</td>\n",
       "</tr>\n",
       "<tr>\n",
       "  <th>Group Var</th>      <td>1240396.526</td>  <td>147.330</td>    <td></td>      <td></td>        <td></td>         <td></td>    \n",
       "</tr>\n",
       "</table>"
      ],
      "text/plain": [
       "<class 'statsmodels.iolib.summary2.Summary'>\n",
       "\"\"\"\n",
       "              Mixed Linear Model Regression Results\n",
       "==================================================================\n",
       "Model:                MixedLM   Dependent Variable:   milk        \n",
       "No. Observations:     1000      Method:               REML        \n",
       "No. Groups:           409       Scale:                1252913.7714\n",
       "Min. group size:      1         Log-Likelihood:       -8651.8138  \n",
       "Max. group size:      4         Converged:            Yes         \n",
       "Mean group size:      2.4                                         \n",
       "------------------------------------------------------------------\n",
       "                  Coef.    Std.Err.   z    P>|z|  [0.025   0.975] \n",
       "------------------------------------------------------------------\n",
       "Intercept         6699.448   81.078 82.630 0.000 6540.538 6858.358\n",
       "btn3a1[T.2]       -244.084  235.197 -1.038 0.299 -705.062  216.894\n",
       "lactation[T.2]    1307.037   84.712 15.429 0.000 1141.005 1473.069\n",
       "lactation[T.3]    1800.538  102.283 17.604 0.000 1600.067 2001.008\n",
       "lactation[T.4]    1669.271  177.492  9.405 0.000 1321.394 2017.148\n",
       "Group Var      1240396.526  147.330                               \n",
       "==================================================================\n",
       "\n",
       "\"\"\""
      ]
     },
     "execution_count": 5,
     "metadata": {},
     "output_type": "execute_result"
    }
   ],
   "source": [
    "LMM(\"formula\").summary()"
   ]
  },
  {
   "cell_type": "markdown",
   "metadata": {},
   "source": [
    "#### > statsmodel \"matrix\""
   ]
  },
  {
   "cell_type": "code",
   "execution_count": 6,
   "metadata": {},
   "outputs": [
    {
     "data": {
      "text/html": [
       "<table class=\"simpletable\">\n",
       "<tr>\n",
       "       <td>Model:</td>       <td>MixedLM</td> <td>Dependent Variable:</td>     <td>milk</td>    \n",
       "</tr>\n",
       "<tr>\n",
       "  <td>No. Observations:</td>  <td>1000</td>         <td>Method:</td>           <td>REML</td>    \n",
       "</tr>\n",
       "<tr>\n",
       "     <td>No. Groups:</td>      <td>409</td>         <td>Scale:</td>        <td>1252913.7714</td>\n",
       "</tr>\n",
       "<tr>\n",
       "  <td>Min. group size:</td>     <td>1</td>      <td>Log-Likelihood:</td>    <td>-8651.8138</td> \n",
       "</tr>\n",
       "<tr>\n",
       "  <td>Max. group size:</td>     <td>4</td>        <td>Converged:</td>           <td>Yes</td>    \n",
       "</tr>\n",
       "<tr>\n",
       "  <td>Mean group size:</td>    <td>2.4</td>            <td></td>                 <td></td>      \n",
       "</tr>\n",
       "</table>\n",
       "<table class=\"simpletable\">\n",
       "<tr>\n",
       "         <td></td>           <th>Coef.</th>    <th>Std.Err.</th>    <th>z</th>   <th>P>|z|</th>  <th>[0.025</th>   <th>0.975]</th> \n",
       "</tr>\n",
       "<tr>\n",
       "  <th>Intercept</th>       <td>6699.448</td>    <td>81.078</td>  <td>82.630</td> <td>0.000</td> <td>6540.538</td> <td>6858.358</td>\n",
       "</tr>\n",
       "<tr>\n",
       "  <th>btn3a1[T.2]</th>     <td>-244.084</td>    <td>235.197</td> <td>-1.038</td> <td>0.299</td> <td>-705.062</td>  <td>216.894</td>\n",
       "</tr>\n",
       "<tr>\n",
       "  <th>lactation[T.2]</th>  <td>1307.037</td>    <td>84.712</td>  <td>15.429</td> <td>0.000</td> <td>1141.005</td> <td>1473.069</td>\n",
       "</tr>\n",
       "<tr>\n",
       "  <th>lactation[T.3]</th>  <td>1800.538</td>    <td>102.283</td> <td>17.604</td> <td>0.000</td> <td>1600.067</td> <td>2001.008</td>\n",
       "</tr>\n",
       "<tr>\n",
       "  <th>lactation[T.4]</th>  <td>1669.271</td>    <td>177.492</td>  <td>9.405</td> <td>0.000</td> <td>1321.394</td> <td>2017.148</td>\n",
       "</tr>\n",
       "<tr>\n",
       "  <th>Group Var</th>      <td>1240396.526</td>  <td>147.330</td>    <td></td>      <td></td>        <td></td>         <td></td>    \n",
       "</tr>\n",
       "</table>"
      ],
      "text/plain": [
       "<class 'statsmodels.iolib.summary2.Summary'>\n",
       "\"\"\"\n",
       "              Mixed Linear Model Regression Results\n",
       "==================================================================\n",
       "Model:                MixedLM   Dependent Variable:   milk        \n",
       "No. Observations:     1000      Method:               REML        \n",
       "No. Groups:           409       Scale:                1252913.7714\n",
       "Min. group size:      1         Log-Likelihood:       -8651.8138  \n",
       "Max. group size:      4         Converged:            Yes         \n",
       "Mean group size:      2.4                                         \n",
       "------------------------------------------------------------------\n",
       "                  Coef.    Std.Err.   z    P>|z|  [0.025   0.975] \n",
       "------------------------------------------------------------------\n",
       "Intercept         6699.448   81.078 82.630 0.000 6540.538 6858.358\n",
       "btn3a1[T.2]       -244.084  235.197 -1.038 0.299 -705.062  216.894\n",
       "lactation[T.2]    1307.037   84.712 15.429 0.000 1141.005 1473.069\n",
       "lactation[T.3]    1800.538  102.283 17.604 0.000 1600.067 2001.008\n",
       "lactation[T.4]    1669.271  177.492  9.405 0.000 1321.394 2017.148\n",
       "Group Var      1240396.526  147.330                               \n",
       "==================================================================\n",
       "\n",
       "\"\"\""
      ]
     },
     "execution_count": 6,
     "metadata": {},
     "output_type": "execute_result"
    }
   ],
   "source": [
    "LMM(\"matrix\").summary()"
   ]
  },
  {
   "cell_type": "markdown",
   "metadata": {},
   "source": [
    "### 2.2 Sprawdzenie czasu konstrukcji modelu\n",
    "#### > formula - 100 razy"
   ]
  },
  {
   "cell_type": "code",
   "execution_count": 7,
   "metadata": {},
   "outputs": [
    {
     "name": "stdout",
     "output_type": "stream",
     "text": [
      "0.676473 0.07436293995932342\n"
     ]
    }
   ],
   "source": [
    "formula_times = check_time(\"formula\", 100)\n",
    "\n",
    "pd.DataFrame.to_clipboard(pd.DataFrame(formula_times))\n",
    "\n",
    "print(mean(formula_times),\n",
    "      stdev(formula_times))"
   ]
  },
  {
   "cell_type": "code",
   "execution_count": 16,
   "metadata": {},
   "outputs": [
    {
     "name": "stdout",
     "output_type": "stream",
     "text": [
      "663 ms ± 24.9 ms per loop (mean ± std. dev. of 7 runs, 1 loop each)\n"
     ]
    }
   ],
   "source": [
    "%timeit LMM(\"formula\")"
   ]
  },
  {
   "cell_type": "markdown",
   "metadata": {},
   "source": [
    "Timer unit: 1e-07 s\n",
    "\n",
    "Total time: 1.08764 s\n",
    "File: <ipython-input-3-55d36bd81f50>\n",
    "Function: LMM at line 1\n",
    "\n",
    "Line #      Hits         Time  Per Hit   % Time  Line Contents\n",
    "==============================================================\n",
    "     1                                           def LMM(model):\n",
    "     2         1        127.0    127.0      0.0      if model == \"formula\":\n",
    "     3         1     326454.0 326454.0      3.0          LMM_formula = smf.mixedlm(formula, data_set, groups=groups)\n",
    "     4         1   10549835.0 10549835.0     97.0          LMMF_formula = LMM_formula.fit()\n",
    "     5         1         28.0     28.0      0.0          return LMMF_formula\n",
    "     6                                           \n",
    "     7                                               elif model == \"matrix\":\n",
    "     8                                                   LMM_matrix = sm.MixedLM(y, X, groups=groups)\n",
    "     9                                                   LMMF_matrix = LMM_matrix.fit()\n",
    "    10                                                   return LMMF_matrix"
   ]
  },
  {
   "cell_type": "markdown",
   "metadata": {},
   "source": [
    "#### > matrix - 100 razy"
   ]
  },
  {
   "cell_type": "code",
   "execution_count": 8,
   "metadata": {},
   "outputs": [
    {
     "name": "stdout",
     "output_type": "stream",
     "text": [
      "0.624238 0.028944317074498238\n"
     ]
    }
   ],
   "source": [
    "matrix_times = check_time(\"matrix\", 100)\n",
    "\n",
    "pd.DataFrame.to_clipboard(pd.DataFrame(matrix_times))\n",
    "\n",
    "print(mean(matrix_times),\n",
    "      stdev(matrix_times))"
   ]
  },
  {
   "cell_type": "code",
   "execution_count": 10,
   "metadata": {},
   "outputs": [
    {
     "name": "stdout",
     "output_type": "stream",
     "text": [
      "629 ms ± 24.8 ms per loop (mean ± std. dev. of 7 runs, 1 loop each)\n"
     ]
    }
   ],
   "source": [
    "%timeit LMM(\"matrix\")"
   ]
  },
  {
   "cell_type": "markdown",
   "metadata": {},
   "source": [
    "Timer unit: 1e-07 s\n",
    "\n",
    "Total time: 0.973522 s\n",
    "File: <ipython-input-3-55d36bd81f50>\n",
    "Function: LMM at line 1\n",
    "\n",
    "Line #      Hits         Time  Per Hit   % Time  Line Contents\n",
    "==============================================================\n",
    "     1                                           def LMM(model):\n",
    "     2         1         27.0     27.0      0.0      if model == \"formula\":\n",
    "     3                                                   LMM_formula = smf.mixedlm(formula, data_set, groups=groups)\n",
    "     4                                                   LMMF_formula = LMM_formula.fit()\n",
    "     5                                                   return LMMF_formula\n",
    "     6                                           \n",
    "     7         1          9.0      9.0      0.0      elif model == \"matrix\":\n",
    "     8         1     169398.0 169398.0      1.7          LMM_matrix = sm.MixedLM(y, X, groups=groups)\n",
    "     9         1    9565761.0 9565761.0     98.3          LMMF_matrix = LMM_matrix.fit()\n",
    "    10         1         26.0     26.0      0.0          return LMMF_matrix"
   ]
  },
  {
   "cell_type": "markdown",
   "metadata": {},
   "source": [
    "### 2.3 Sprawdzenie zużywanej pamięci RAM\n",
    "#### > Z użyciem \"IPython Magic Commands\"\n",
    "##### >> statsmodel \"formula\""
   ]
  },
  {
   "cell_type": "code",
   "execution_count": 11,
   "metadata": {},
   "outputs": [
    {
     "name": "stdout",
     "output_type": "stream",
     "text": [
      "peak memory: 132.26 MiB, increment: 0.02 MiB\n"
     ]
    }
   ],
   "source": [
    "%memit LMM(\"formula\")"
   ]
  },
  {
   "cell_type": "markdown",
   "metadata": {},
   "source": [
    "Line #    Mem usage    Increment   Line Contents\n",
    "================================================\n",
    "    22     97.2 MiB     97.2 MiB   @profile\n",
    "    23                             def LMM(model):\n",
    "    24     97.2 MiB      0.0 MiB       if model == \"formula\":\n",
    "    25     97.5 MiB      0.3 MiB           LMM_formula = smf.mixedlm(formula, data_set, groups=groups)\n",
    "    26     98.1 MiB      0.6 MiB           LMMF_formula = LMM_formula.fit()\n",
    "    27     98.1 MiB      0.0 MiB           return LMMF_formula\n",
    "    28                             \n",
    "    29                                 elif model == \"matrix\":\n",
    "    30                                     LMM_matrix = sm.MixedLM(y, X, groups=groups)\n",
    "    31                                     LMMF_matrix = LMM_matrix.fit()\n",
    "    32                                     return LMMF_matrix"
   ]
  },
  {
   "cell_type": "markdown",
   "metadata": {},
   "source": [
    "##### >> statsmodel \"matrix\""
   ]
  },
  {
   "cell_type": "code",
   "execution_count": 12,
   "metadata": {
    "scrolled": true
   },
   "outputs": [
    {
     "name": "stdout",
     "output_type": "stream",
     "text": [
      "peak memory: 132.01 MiB, increment: 0.00 MiB\n"
     ]
    }
   ],
   "source": [
    "%memit LMM(\"matrix\")"
   ]
  },
  {
   "cell_type": "markdown",
   "metadata": {},
   "source": [
    "Line #    Mem usage    Increment   Line Contents\n",
    "================================================\n",
    "    22     97.0 MiB     97.0 MiB   @profile\n",
    "    23                             def LMM(model):\n",
    "    24     97.0 MiB      0.0 MiB       if model == \"formula\":\n",
    "    25                                     LMM_formula = smf.mixedlm(formula, data_set, groups=groups)\n",
    "    26                                     LMMF_formula = LMM_formula.fit()\n",
    "    27                                     return LMMF_formula\n",
    "    28                             \n",
    "    29     97.0 MiB      0.0 MiB       elif model == \"matrix\":\n",
    "    30     97.3 MiB      0.2 MiB           LMM_matrix = sm.MixedLM(y, X, groups=groups)\n",
    "    31     97.9 MiB      0.6 MiB           LMMF_matrix = LMM_matrix.fit()\n",
    "    32     97.9 MiB      0.0 MiB           return LMMF_matrix"
   ]
  },
  {
   "attachments": {},
   "cell_type": "markdown",
   "metadata": {},
   "source": [
    "#### > Z użyciem biblioteki \"memory_profiler\" w programie PyCharm\n",
    "##### >> statsmodel \"formula\"\n",
    "![formula_cows](https://i.imgur.com/FSQdDFl.png)"
   ]
  },
  {
   "cell_type": "markdown",
   "metadata": {},
   "source": [
    "##### >> statsmodel \"matrix\"\n",
    "![matrix_cows](https://i.imgur.com/mb2n6Kf.png)"
   ]
  }
 ],
 "metadata": {
  "kernelspec": {
   "display_name": "Python 3",
   "language": "python",
   "name": "python3"
  },
  "language_info": {
   "codemirror_mode": {
    "name": "ipython",
    "version": 3
   },
   "file_extension": ".py",
   "mimetype": "text/x-python",
   "name": "python",
   "nbconvert_exporter": "python",
   "pygments_lexer": "ipython3",
   "version": "3.8.3"
  }
 },
 "nbformat": 4,
 "nbformat_minor": 4
}
