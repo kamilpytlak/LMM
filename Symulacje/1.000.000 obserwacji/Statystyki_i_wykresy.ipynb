{
 "cells": [
  {
   "cell_type": "markdown",
   "metadata": {},
   "source": [
    "# <center>R: Testy statystyczne i wizualizacja</center>\n",
    "# <center>Symulacje</center>\n",
    "---\n",
    "## 1. Biblioteki i edycja danych\n",
    "### 1.1 Biblioteki"
   ]
  },
  {
   "cell_type": "code",
   "execution_count": 1,
   "metadata": {},
   "outputs": [
    {
     "name": "stderr",
     "output_type": "stream",
     "text": [
      "Warning message:\n",
      "\"package 'dplyr' was built under R version 3.6.3\"\n",
      "Attaching package: 'dplyr'\n",
      "\n",
      "The following objects are masked from 'package:stats':\n",
      "\n",
      "    filter, lag\n",
      "\n",
      "The following objects are masked from 'package:base':\n",
      "\n",
      "    intersect, setdiff, setequal, union\n",
      "\n",
      "Warning message:\n",
      "\"package 'ggplot2' was built under R version 3.6.3\"Warning message:\n",
      "\"package 'FSA' was built under R version 3.6.3\"## FSA v0.8.30. See citation('FSA') if used in publication.\n",
      "## Run fishR() for related website and fishR('IFAR') for related book.\n"
     ]
    }
   ],
   "source": [
    "library(dplyr)\n",
    "library(ggplot2)\n",
    "library(FSA)"
   ]
  },
  {
   "cell_type": "markdown",
   "metadata": {},
   "source": [
    "### 1.2 Wczytanie i edycja danych (czasów wykonywania dla zbioru milionowego)"
   ]
  },
  {
   "cell_type": "code",
   "execution_count": 2,
   "metadata": {
    "scrolled": true
   },
   "outputs": [
    {
     "data": {
      "text/html": [
       "<table>\n",
       "<thead><tr><th scope=col>statsmodel_formula</th><th scope=col>statsmodel_matrix</th><th scope=col>lme4</th><th scope=col>nlme</th><th scope=col>mgcv</th></tr></thead>\n",
       "<tbody>\n",
       "\t<tr><td>1.5731 </td><td>1.5631 </td><td> 9.2887</td><td>11.5224</td><td>3.6673 </td></tr>\n",
       "\t<tr><td>1.6571 </td><td>1.8300 </td><td>10.3971</td><td>11.7103</td><td>3.4722 </td></tr>\n",
       "\t<tr><td>1.9209 </td><td>1.7130 </td><td> 9.3047</td><td>11.7643</td><td>3.7670 </td></tr>\n",
       "\t<tr><td>1.7550 </td><td>1.5611 </td><td> 9.6025</td><td>11.1846</td><td>3.8170 </td></tr>\n",
       "\t<tr><td>1.9279 </td><td>1.4991 </td><td> 9.0728</td><td>10.0722</td><td>4.0760 </td></tr>\n",
       "\t<tr><td>1.8369 </td><td>1.4582 </td><td>10.3841</td><td>12.2170</td><td>3.9451 </td></tr>\n",
       "</tbody>\n",
       "</table>\n"
      ],
      "text/latex": [
       "\\begin{tabular}{r|lllll}\n",
       " statsmodel\\_formula & statsmodel\\_matrix & lme4 & nlme & mgcv\\\\\n",
       "\\hline\n",
       "\t 1.5731  & 1.5631  &  9.2887 & 11.5224 & 3.6673 \\\\\n",
       "\t 1.6571  & 1.8300  & 10.3971 & 11.7103 & 3.4722 \\\\\n",
       "\t 1.9209  & 1.7130  &  9.3047 & 11.7643 & 3.7670 \\\\\n",
       "\t 1.7550  & 1.5611  &  9.6025 & 11.1846 & 3.8170 \\\\\n",
       "\t 1.9279  & 1.4991  &  9.0728 & 10.0722 & 4.0760 \\\\\n",
       "\t 1.8369  & 1.4582  & 10.3841 & 12.2170 & 3.9451 \\\\\n",
       "\\end{tabular}\n"
      ],
      "text/markdown": [
       "\n",
       "| statsmodel_formula | statsmodel_matrix | lme4 | nlme | mgcv |\n",
       "|---|---|---|---|---|\n",
       "| 1.5731  | 1.5631  |  9.2887 | 11.5224 | 3.6673  |\n",
       "| 1.6571  | 1.8300  | 10.3971 | 11.7103 | 3.4722  |\n",
       "| 1.9209  | 1.7130  |  9.3047 | 11.7643 | 3.7670  |\n",
       "| 1.7550  | 1.5611  |  9.6025 | 11.1846 | 3.8170  |\n",
       "| 1.9279  | 1.4991  |  9.0728 | 10.0722 | 4.0760  |\n",
       "| 1.8369  | 1.4582  | 10.3841 | 12.2170 | 3.9451  |\n",
       "\n"
      ],
      "text/plain": [
       "  statsmodel_formula statsmodel_matrix lme4    nlme    mgcv  \n",
       "1 1.5731             1.5631             9.2887 11.5224 3.6673\n",
       "2 1.6571             1.8300            10.3971 11.7103 3.4722\n",
       "3 1.9209             1.7130             9.3047 11.7643 3.7670\n",
       "4 1.7550             1.5611             9.6025 11.1846 3.8170\n",
       "5 1.9279             1.4991             9.0728 10.0722 4.0760\n",
       "6 1.8369             1.4582            10.3841 12.2170 3.9451"
      ]
     },
     "metadata": {},
     "output_type": "display_data"
    }
   ],
   "source": [
    "csv_data <- read.csv(\"LMM_times_BIG_1e6_gam.csv\",\n",
    "                     col.names = c(\"statsmodel_formula\", \"statsmodel_matrix\", \"lme4\", \"nlme\", \"mgcv\"))\n",
    "\n",
    "head(csv_data)"
   ]
  },
  {
   "cell_type": "code",
   "execution_count": 3,
   "metadata": {},
   "outputs": [
    {
     "data": {
      "text/html": [
       "<table>\n",
       "<thead><tr><th scope=col>Czas_wykonania</th><th scope=col>Biblioteka</th><th scope=col>Jezyk</th></tr></thead>\n",
       "<tbody>\n",
       "\t<tr><td>1.5731            </td><td>statsmodel_formula</td><td>Python            </td></tr>\n",
       "\t<tr><td>1.6571            </td><td>statsmodel_formula</td><td>Python            </td></tr>\n",
       "\t<tr><td>1.9209            </td><td>statsmodel_formula</td><td>Python            </td></tr>\n",
       "\t<tr><td>1.7550            </td><td>statsmodel_formula</td><td>Python            </td></tr>\n",
       "\t<tr><td>1.9279            </td><td>statsmodel_formula</td><td>Python            </td></tr>\n",
       "\t<tr><td>1.8369            </td><td>statsmodel_formula</td><td>Python            </td></tr>\n",
       "</tbody>\n",
       "</table>\n"
      ],
      "text/latex": [
       "\\begin{tabular}{r|lll}\n",
       " Czas\\_wykonania & Biblioteka & Jezyk\\\\\n",
       "\\hline\n",
       "\t 1.5731               & statsmodel\\_formula & Python              \\\\\n",
       "\t 1.6571               & statsmodel\\_formula & Python              \\\\\n",
       "\t 1.9209               & statsmodel\\_formula & Python              \\\\\n",
       "\t 1.7550               & statsmodel\\_formula & Python              \\\\\n",
       "\t 1.9279               & statsmodel\\_formula & Python              \\\\\n",
       "\t 1.8369               & statsmodel\\_formula & Python              \\\\\n",
       "\\end{tabular}\n"
      ],
      "text/markdown": [
       "\n",
       "| Czas_wykonania | Biblioteka | Jezyk |\n",
       "|---|---|---|\n",
       "| 1.5731             | statsmodel_formula | Python             |\n",
       "| 1.6571             | statsmodel_formula | Python             |\n",
       "| 1.9209             | statsmodel_formula | Python             |\n",
       "| 1.7550             | statsmodel_formula | Python             |\n",
       "| 1.9279             | statsmodel_formula | Python             |\n",
       "| 1.8369             | statsmodel_formula | Python             |\n",
       "\n"
      ],
      "text/plain": [
       "  Czas_wykonania Biblioteka         Jezyk \n",
       "1 1.5731         statsmodel_formula Python\n",
       "2 1.6571         statsmodel_formula Python\n",
       "3 1.9209         statsmodel_formula Python\n",
       "4 1.7550         statsmodel_formula Python\n",
       "5 1.9279         statsmodel_formula Python\n",
       "6 1.8369         statsmodel_formula Python"
      ]
     },
     "metadata": {},
     "output_type": "display_data"
    }
   ],
   "source": [
    "csv_data_2 <- stack(csv_data) %>%\n",
    "    rename(Czas_wykonania = values, Biblioteka = ind) %>%\n",
    "        mutate(Jezyk = ifelse(Biblioteka %in% c(\"statsmodel_formula\", \"statsmodel_matrix\"), \"Python\", \"R\"))\n",
    "\n",
    "head(csv_data_2)"
   ]
  },
  {
   "cell_type": "markdown",
   "metadata": {},
   "source": [
    "## 2. Wizualizacja\n",
    "### 2.1 Zestawienie czasów wykonywania funkcji bibliotek języków Python i R"
   ]
  },
  {
   "cell_type": "code",
   "execution_count": 4,
   "metadata": {},
   "outputs": [
    {
     "data": {
      "image/png": "[encoded data removed]",
      "text/plain": [
       "plot without title"
      ]
     },
     "metadata": {},
     "output_type": "display_data"
    }
   ],
   "source": [
    "csv_data_2 %>%\n",
    "      ggplot(aes(x=Biblioteka, y=Czas_wykonania, fill=Biblioteka)) +\n",
    "      ggtitle(\"Rozrzut czasów wykonywania modelu w zależności od języka i biblioteki\\n\\ny = x0 + (1|fac)\\nLiczba grup = 4\") +\n",
    "      xlab(\"Biblioteka/deklaracja funkcji\") +\n",
    "      ylab(\"Czas wykonania (w sek.)\") +\n",
    "      geom_boxplot(notch=T) +\n",
    "      facet_wrap(~Jezyk, scales=\"free_x\") +\n",
    "      scale_y_continuous(breaks=seq(0, 13, 1))"
   ]
  },
  {
   "cell_type": "markdown",
   "metadata": {},
   "source": [
    "### 2.2 Zestawienie czasów wykonywania deklaracji funkcji biblioteki \"statsmodel\" w języku Python"
   ]
  },
  {
   "cell_type": "code",
   "execution_count": 5,
   "metadata": {
    "scrolled": false
   },
   "outputs": [
    {
     "data": {
      "image/png": "[encoded data removed]",
      "text/plain": [
       "plot without title"
      ]
     },
     "metadata": {},
     "output_type": "display_data"
    }
   ],
   "source": [
    "csv_data_2 %>%\n",
    "    filter(Biblioteka %in% c(\"statsmodel_formula\", \"statsmodel_matrix\")) %>%\n",
    "        ggplot(aes(x=Biblioteka, y=Czas_wykonania, fill=Biblioteka)) +\n",
    "        scale_y_continuous(breaks=seq(0, 3, 0.1)) +\n",
    "        ggtitle(\"Rozrzut czasów wykonywania modelu w zależności od jego konstrukcji\\n\\ny = x0 + (1|fac)\\nLiczba grup = 4\") +\n",
    "        ylab(\"Czas wykonania (w sek.)\") +\n",
    "        geom_violin(aes(fill = Biblioteka)) + geom_jitter() + geom_boxplot(width = .09, outlier.colour = NA) + geom_rug() +\n",
    "        facet_wrap(~Jezyk)"
   ]
  },
  {
   "cell_type": "markdown",
   "metadata": {},
   "source": [
    "### 2.3 Zestawienie czasów wykonywania funkcji z bibliotek \"lme4\", \"nlme\" i \"bam\" w języku R"
   ]
  },
  {
   "cell_type": "code",
   "execution_count": 6,
   "metadata": {
    "scrolled": false
   },
   "outputs": [
    {
     "data": {
      "image/png": "[encoded data removed]",
      "text/plain": [
       "plot without title"
      ]
     },
     "metadata": {},
     "output_type": "display_data"
    }
   ],
   "source": [
    "csv_data_2 %>%\n",
    "    filter(Biblioteka %in% c(\"lme4\", \"nlme\", \"mgcv\")) %>%\n",
    "        ggplot(aes(x=Biblioteka, y=Czas_wykonania, fill=Biblioteka)) +\n",
    "        ggtitle(\"Rozrzut czasów wykonywania modelu w zależności od jego konstrukcji\\n\\ny = x0 + (1|fac)\\nLiczba grup = 4\") +\n",
    "        ylab(\"Czas wykonania (w sek.)\") +\n",
    "        geom_boxplot() +\n",
    "        facet_wrap(~Jezyk)"
   ]
  },
  {
   "cell_type": "markdown",
   "metadata": {},
   "source": [
    "### 2.4 Zestawienie czasów wykonywania funkcji z bibliotek \"lme4\", \"nlme\" w języku R"
   ]
  },
  {
   "cell_type": "code",
   "execution_count": 7,
   "metadata": {},
   "outputs": [
    {
     "data": {
      "image/png": "[encoded data removed]",
      "text/plain": [
       "plot without title"
      ]
     },
     "metadata": {},
     "output_type": "display_data"
    }
   ],
   "source": [
    "csv_data_2 %>%\n",
    "    filter(Biblioteka %in% c(\"lme4\", \"nlme\")) %>%\n",
    "        ggplot(aes(x=Biblioteka, y=Czas_wykonania, fill=Biblioteka)) +\n",
    "        scale_y_continuous(breaks=seq(0, 13, 0.5)) +\n",
    "        ggtitle(\"Rozrzut czasów wykonywania modelu w zależności od jego konstrukcji\\n\\ny = x0 + (1|fac)\\nLiczba grup = 4\") +\n",
    "        ylab(\"Czas wykonania (w sek.)\") +\n",
    "        geom_violin(aes(fill = Biblioteka)) + geom_jitter() + geom_boxplot(width = .09, outlier.colour = NA) + geom_rug() +\n",
    "        facet_wrap(~Jezyk)"
   ]
  },
  {
   "cell_type": "markdown",
   "metadata": {},
   "source": [
    "## 3. Testy statystyczne"
   ]
  },
  {
   "cell_type": "markdown",
   "metadata": {},
   "source": [
    "### 3.1 Sprawdzenie różnic w średnich czasów wykonywania biblioteki statsmodel \"formula\" i \"matrix\" (Python)\n",
    "#### 3.1.1 Sprawdzenie normalności rozkładów\n",
    "##### > H0: Czasy wykonywania funkcji z bibliotek mają rozkład normalny\n",
    "##### > HA: Czasy wykonywania funkcji z bibliotek nie mają rozkładu normalnego"
   ]
  },
  {
   "cell_type": "code",
   "execution_count": 8,
   "metadata": {},
   "outputs": [
    {
     "name": "stdout",
     "output_type": "stream",
     "text": [
      "\n",
      "\tShapiro-Wilk normality test\n",
      "\n",
      "data:  csv_data_2$Czas_wykonania[csv_data_2$Biblioteka == i]\n",
      "W = 0.88909, p-value = 4.492e-07\n",
      "\n",
      "\n",
      "\tShapiro-Wilk normality test\n",
      "\n",
      "data:  csv_data_2$Czas_wykonania[csv_data_2$Biblioteka == i]\n",
      "W = 0.65022, p-value = 4.304e-14\n",
      "\n"
     ]
    }
   ],
   "source": [
    "for(i in c(\"statsmodel_formula\", \"statsmodel_matrix\")) {\n",
    "    print(shapiro.test(csv_data_2$Czas_wykonania[csv_data_2$Biblioteka == i]))\n",
    "}"
   ]
  },
  {
   "cell_type": "markdown",
   "metadata": {},
   "source": [
    "##### Wniosek: Brak normalności rozkładów"
   ]
  },
  {
   "cell_type": "markdown",
   "metadata": {},
   "source": [
    "#### 3.1.2 Test Wilcoxona (nieparametryczny)\n",
    "##### > H0: Średnie czasy wykonywania funkcji z użyciem metod \"formula\" i \"matrix\" nie różnią się\n",
    "##### > HA: Średni czas wykonywania funkcji metody \"formula\" jest większy niż \"matrix\""
   ]
  },
  {
   "cell_type": "code",
   "execution_count": 9,
   "metadata": {},
   "outputs": [
    {
     "data": {
      "text/plain": [
       "\n",
       "\tWilcoxon rank sum test with continuity correction\n",
       "\n",
       "data:  csv_data$statsmodel_formula and csv_data$statsmodel_matrix\n",
       "W = 8265.5, p-value = 7.45e-16\n",
       "alternative hypothesis: true location shift is greater than 0\n"
      ]
     },
     "metadata": {},
     "output_type": "display_data"
    }
   ],
   "source": [
    "wilcox.test(csv_data$statsmodel_formula, csv_data$statsmodel_matrix, alternative=\"greater\")"
   ]
  },
  {
   "cell_type": "markdown",
   "metadata": {},
   "source": [
    "###### Wniosek Średni czas wykonywania funkcji metody \"formula\" jest większy niż \"matrix\""
   ]
  },
  {
   "cell_type": "markdown",
   "metadata": {},
   "source": [
    "### 3.2 Sprawdzenie różnic w średnich czasów wykonywania wszystkich bibliotek\n",
    "#### 3.2.1 Nieparametryczna ANOVA\n",
    "##### > H0: Średnie czasy wykonywania funkcji nie różnią się.\n",
    "##### > HA: Średnie czasy wykonywania różnią się dla przynajmniej jednej pary funkcji."
   ]
  },
  {
   "cell_type": "code",
   "execution_count": 10,
   "metadata": {},
   "outputs": [
    {
     "data": {
      "text/plain": [
       "\n",
       "\tKruskal-Wallis rank sum test\n",
       "\n",
       "data:  csv_data\n",
       "Kruskal-Wallis chi-squared = 463.39, df = 4, p-value < 2.2e-16\n"
      ]
     },
     "metadata": {},
     "output_type": "display_data"
    }
   ],
   "source": [
    "kruskal.test(csv_data)"
   ]
  },
  {
   "cell_type": "markdown",
   "metadata": {},
   "source": [
    "##### > Wniosek: Średnie czasy wykonywania różnią się dla przynajmniej jednej pary funkcji."
   ]
  },
  {
   "cell_type": "markdown",
   "metadata": {},
   "source": [
    "##### 3.2.2 Test Dunneta - do sprawdzenia istotności różnic w grupach (funkcjach)"
   ]
  },
  {
   "cell_type": "code",
   "execution_count": 11,
   "metadata": {
    "scrolled": true
   },
   "outputs": [
    {
     "data": {
      "text/html": [
       "<table>\n",
       "<thead><tr><th></th><th scope=col>Comparison</th><th scope=col>Z</th><th scope=col>P.unadj</th><th scope=col>P.adj</th></tr></thead>\n",
       "<tbody>\n",
       "\t<tr><th scope=row>9</th><td>nlme - statsmodel_matrix              </td><td>18.627655                             </td><td>1.917439e-77                          </td><td>1.917439e-76                          </td></tr>\n",
       "\t<tr><th scope=row>6</th><td>nlme - statsmodel_formula             </td><td>15.431322                             </td><td>1.007841e-53                          </td><td>9.070572e-53                          </td></tr>\n",
       "\t<tr><th scope=row>7</th><td>lme4 - statsmodel_matrix              </td><td>13.933240                             </td><td>3.978875e-44                          </td><td>3.183100e-43                          </td></tr>\n",
       "\t<tr><th scope=row>4</th><td>lme4 - statsmodel_formula             </td><td>10.736907                             </td><td>6.829380e-27                          </td><td>4.780566e-26                          </td></tr>\n",
       "\t<tr><th scope=row>3</th><td>mgcv - nlme                           </td><td>-9.688348                             </td><td>3.379508e-22                          </td><td>2.027705e-21                          </td></tr>\n",
       "\t<tr><th scope=row>8</th><td>mgcv - statsmodel_matrix              </td><td> 8.939307                             </td><td>3.916189e-19                          </td><td>1.958095e-18                          </td></tr>\n",
       "\t<tr><th scope=row>5</th><td>mgcv - statsmodel_formula             </td><td> 5.742974                             </td><td>9.302787e-09                          </td><td>3.721115e-08                          </td></tr>\n",
       "\t<tr><th scope=row>1</th><td>lme4 - mgcv                           </td><td> 4.993933                             </td><td>5.916186e-07                          </td><td>1.774856e-06                          </td></tr>\n",
       "\t<tr><th scope=row>2</th><td>lme4 - nlme                           </td><td>-4.694415                             </td><td>2.673712e-06                          </td><td>5.347423e-06                          </td></tr>\n",
       "\t<tr><th scope=row>10</th><td>statsmodel_formula - statsmodel_matrix</td><td> 3.196333                             </td><td>1.391866e-03                          </td><td>1.391866e-03                          </td></tr>\n",
       "</tbody>\n",
       "</table>\n"
      ],
      "text/latex": [
       "\\begin{tabular}{r|llll}\n",
       "  & Comparison & Z & P.unadj & P.adj\\\\\n",
       "\\hline\n",
       "\t9 & nlme - statsmodel\\_matrix               & 18.627655                                & 1.917439e-77                             & 1.917439e-76                            \\\\\n",
       "\t6 & nlme - statsmodel\\_formula              & 15.431322                                & 1.007841e-53                             & 9.070572e-53                            \\\\\n",
       "\t7 & lme4 - statsmodel\\_matrix               & 13.933240                                & 3.978875e-44                             & 3.183100e-43                            \\\\\n",
       "\t4 & lme4 - statsmodel\\_formula              & 10.736907                                & 6.829380e-27                             & 4.780566e-26                            \\\\\n",
       "\t3 & mgcv - nlme                            & -9.688348                              & 3.379508e-22                           & 2.027705e-21                          \\\\\n",
       "\t8 & mgcv - statsmodel\\_matrix               &  8.939307                                & 3.916189e-19                             & 1.958095e-18                            \\\\\n",
       "\t5 & mgcv - statsmodel\\_formula              &  5.742974                                & 9.302787e-09                             & 3.721115e-08                            \\\\\n",
       "\t1 & lme4 - mgcv                            &  4.993933                              & 5.916186e-07                           & 1.774856e-06                          \\\\\n",
       "\t2 & lme4 - nlme                            & -4.694415                              & 2.673712e-06                           & 5.347423e-06                          \\\\\n",
       "\t10 & statsmodel\\_formula - statsmodel\\_matrix &  3.196333                                  & 1.391866e-03                               & 1.391866e-03                              \\\\\n",
       "\\end{tabular}\n"
      ],
      "text/markdown": [
       "\n",
       "| <!--/--> | Comparison | Z | P.unadj | P.adj |\n",
       "|---|---|---|---|---|\n",
       "| 9 | nlme - statsmodel_matrix               | 18.627655                              | 1.917439e-77                           | 1.917439e-76                           |\n",
       "| 6 | nlme - statsmodel_formula              | 15.431322                              | 1.007841e-53                           | 9.070572e-53                           |\n",
       "| 7 | lme4 - statsmodel_matrix               | 13.933240                              | 3.978875e-44                           | 3.183100e-43                           |\n",
       "| 4 | lme4 - statsmodel_formula              | 10.736907                              | 6.829380e-27                           | 4.780566e-26                           |\n",
       "| 3 | mgcv - nlme                            | -9.688348                              | 3.379508e-22                           | 2.027705e-21                           |\n",
       "| 8 | mgcv - statsmodel_matrix               |  8.939307                              | 3.916189e-19                           | 1.958095e-18                           |\n",
       "| 5 | mgcv - statsmodel_formula              |  5.742974                              | 9.302787e-09                           | 3.721115e-08                           |\n",
       "| 1 | lme4 - mgcv                            |  4.993933                              | 5.916186e-07                           | 1.774856e-06                           |\n",
       "| 2 | lme4 - nlme                            | -4.694415                              | 2.673712e-06                           | 5.347423e-06                           |\n",
       "| 10 | statsmodel_formula - statsmodel_matrix |  3.196333                              | 1.391866e-03                           | 1.391866e-03                           |\n",
       "\n"
      ],
      "text/plain": [
       "   Comparison                             Z         P.unadj      P.adj       \n",
       "9  nlme - statsmodel_matrix               18.627655 1.917439e-77 1.917439e-76\n",
       "6  nlme - statsmodel_formula              15.431322 1.007841e-53 9.070572e-53\n",
       "7  lme4 - statsmodel_matrix               13.933240 3.978875e-44 3.183100e-43\n",
       "4  lme4 - statsmodel_formula              10.736907 6.829380e-27 4.780566e-26\n",
       "3  mgcv - nlme                            -9.688348 3.379508e-22 2.027705e-21\n",
       "8  mgcv - statsmodel_matrix                8.939307 3.916189e-19 1.958095e-18\n",
       "5  mgcv - statsmodel_formula               5.742974 9.302787e-09 3.721115e-08\n",
       "1  lme4 - mgcv                             4.993933 5.916186e-07 1.774856e-06\n",
       "2  lme4 - nlme                            -4.694415 2.673712e-06 5.347423e-06\n",
       "10 statsmodel_formula - statsmodel_matrix  3.196333 1.391866e-03 1.391866e-03"
      ]
     },
     "metadata": {},
     "output_type": "display_data"
    }
   ],
   "source": [
    "dun <- dunnTest(data=csv_data_2, Czas_wykonania~Biblioteka, kw=TRUE)\n",
    "\n",
    "dun$res[order(abs(dun$res[2]), decreasing = TRUE),]"
   ]
  },
  {
   "cell_type": "markdown",
   "metadata": {},
   "source": [
    "##### > Wniosek: We wszystkich parach średnie czasy wykonywania różnią się. Największa różnica występuje między bibliotekami \"nlme\" i \"statsmodel_matrix\", natomiast najmniejsza - \"statsmodel_formula\" i \"statsmodel_matrix\" w języku Python."
   ]
  }
 ],
 "metadata": {
  "kernelspec": {
   "display_name": "R",
   "language": "R",
   "name": "ir"
  },
  "language_info": {
   "codemirror_mode": "r",
   "file_extension": ".r",
   "mimetype": "text/x-r-source",
   "name": "R",
   "pygments_lexer": "r",
   "version": "3.6.1"
  }
 },
 "nbformat": 4,
 "nbformat_minor": 4
}
