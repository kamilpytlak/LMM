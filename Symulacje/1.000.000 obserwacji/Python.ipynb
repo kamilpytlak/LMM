{
 "cells": [
  {
   "cell_type": "markdown",
   "metadata": {},
   "source": [
    "# <center>Python: Porównanie algorytmów</center>\n",
    "---\n",
    "## 1. Konstrukcja modeli i mierników parametrów\n",
    "### 1.1 Biblioteki i edycja danych\n",
    "#### 1.1.1 Biblioteki"
   ]
  },
  {
   "cell_type": "code",
   "execution_count": 1,
   "metadata": {},
   "outputs": [],
   "source": [
    "import pandas as pd\n",
    "from statistics import mean, stdev\n",
    "from scipy.stats import wilcoxon\n",
    "import statsmodels.api as sm\n",
    "import statsmodels.formula.api as smf\n",
    "from patsy import dmatrices\n",
    "import time\n",
    "%load_ext line_profiler\n",
    "%load_ext memory_profiler"
   ]
  },
  {
   "cell_type": "markdown",
   "metadata": {},
   "source": [
    "#### 1.1.2 Wczytanie i edycja danych"
   ]
  },
  {
   "cell_type": "code",
   "execution_count": 2,
   "metadata": {},
   "outputs": [
    {
     "name": "stdout",
     "output_type": "stream",
     "text": [
      "           y        x0  fac\n",
      "0  11.564012  0.319636    1\n",
      "1  21.027267  0.018812    2\n",
      "2  19.568180  0.831518    3\n",
      "3  19.491935  0.152270    4\n",
      "4  12.107259  0.778155    1\n",
      "           y        x0  fac\n",
      "0  11.564012  0.319636    1\n",
      "1  21.027267  0.018812    2\n",
      "2  19.568180  0.831518    3\n",
      "3  19.491935  0.152270    4\n",
      "4  12.107259  0.778155    1\n"
     ]
    }
   ],
   "source": [
    "data_set = pd.read_csv(\"BIG_Sim_1e6.csv\")\n",
    "\n",
    "print(data_set.head())\n",
    "\n",
    "# Formuła\n",
    "formula = \"y ~ x0\"\n",
    "\n",
    "# Macierz\n",
    "y, X = dmatrices(formula, data=data_set, return_type=\"dataframe\")\n",
    "groups = data_set[\"fac\"]"
   ]
  },
  {
   "cell_type": "markdown",
   "metadata": {},
   "source": [
    "### 1.2 Funkcje\n",
    "#### 1.2.1 Funkcja tworząca modele"
   ]
  },
  {
   "cell_type": "code",
   "execution_count": 3,
   "metadata": {},
   "outputs": [],
   "source": [
    "def LMM(model):\n",
    "    if model == \"formula\":\n",
    "        LMM_formula = smf.mixedlm(formula, data_set, groups=groups)\n",
    "        LMMF_formula = LMM_formula.fit()\n",
    "        return LMMF_formula\n",
    "\n",
    "    elif model == \"matrix\":\n",
    "        LMM_matrix = sm.MixedLM(y, X, groups=groups)\n",
    "        LMMF_matrix = LMM_matrix.fit()\n",
    "        return LMMF_matrix"
   ]
  },
  {
   "cell_type": "markdown",
   "metadata": {},
   "source": [
    "#### 1.2.2 Funkcja sprawdzająca czas"
   ]
  },
  {
   "cell_type": "code",
   "execution_count": 4,
   "metadata": {},
   "outputs": [],
   "source": [
    "def check_time(model, n):\n",
    "    times = []\n",
    "\n",
    "    for i in range(n):\n",
    "        start_time = time.time()\n",
    "        LMM(model)\n",
    "        end_time = time.time()\n",
    "        times.append(round(end_time - start_time, 4))\n",
    "    return times"
   ]
  },
  {
   "cell_type": "markdown",
   "metadata": {},
   "source": [
    "## 2. Symulacje\n",
    "### 2.1 Podsumowanie modelu\n",
    "#### 2.1.1 statsmodel \"formula\""
   ]
  },
  {
   "cell_type": "code",
   "execution_count": 5,
   "metadata": {},
   "outputs": [
    {
     "data": {
      "text/html": [
       "<table class=\"simpletable\">\n",
       "<tr>\n",
       "       <td>Model:</td>        <td>MixedLM</td> <td>Dependent Variable:</td>       <td>y</td>      \n",
       "</tr>\n",
       "<tr>\n",
       "  <td>No. Observations:</td>  <td>1000000</td>       <td>Method:</td>           <td>REML</td>     \n",
       "</tr>\n",
       "<tr>\n",
       "     <td>No. Groups:</td>        <td>4</td>          <td>Scale:</td>           <td>15.0989</td>   \n",
       "</tr>\n",
       "<tr>\n",
       "  <td>Min. group size:</td>   <td>250000</td>    <td>Log-Likelihood:</td>   <td>-2776273.8789</td>\n",
       "</tr>\n",
       "<tr>\n",
       "  <td>Max. group size:</td>   <td>250000</td>      <td>Converged:</td>           <td>Yes</td>     \n",
       "</tr>\n",
       "<tr>\n",
       "  <td>Mean group size:</td>  <td>250000.0</td>          <td></td>                 <td></td>       \n",
       "</tr>\n",
       "</table>\n",
       "<table class=\"simpletable\">\n",
       "<tr>\n",
       "      <td></td>       <th>Coef.</th> <th>Std.Err.</th>    <th>z</th>   <th>P>|z|</th> <th>[0.025</th> <th>0.975]</th>\n",
       "</tr>\n",
       "<tr>\n",
       "  <th>Intercept</th> <td>15.390</td>   <td>1.943</td>   <td>7.921</td> <td>0.000</td> <td>11.582</td> <td>19.198</td>\n",
       "</tr>\n",
       "<tr>\n",
       "  <th>x0</th>        <td>-0.041</td>   <td>0.013</td>  <td>-3.022</td> <td>0.003</td> <td>-0.067</td> <td>-0.014</td>\n",
       "</tr>\n",
       "<tr>\n",
       "  <th>Group Var</th> <td>15.099</td>   <td>3.189</td>     <td></td>      <td></td>       <td></td>       <td></td>   \n",
       "</tr>\n",
       "</table>"
      ],
      "text/plain": [
       "<class 'statsmodels.iolib.summary2.Summary'>\n",
       "\"\"\"\n",
       "           Mixed Linear Model Regression Results\n",
       "============================================================\n",
       "Model:            MixedLM  Dependent Variable: y            \n",
       "No. Observations: 1000000  Method:             REML         \n",
       "No. Groups:       4        Scale:              15.0989      \n",
       "Min. group size:  250000   Log-Likelihood:     -2776273.8789\n",
       "Max. group size:  250000   Converged:          Yes          \n",
       "Mean group size:  250000.0                                  \n",
       "-------------------------------------------------------------\n",
       "              Coef.   Std.Err.    z     P>|z|  [0.025  0.975]\n",
       "-------------------------------------------------------------\n",
       "Intercept     15.390     1.943   7.921  0.000  11.582  19.198\n",
       "x0            -0.041     0.013  -3.022  0.003  -0.067  -0.014\n",
       "Group Var     15.099     3.189                               \n",
       "============================================================\n",
       "\n",
       "\"\"\""
      ]
     },
     "execution_count": 5,
     "metadata": {},
     "output_type": "execute_result"
    },
    {
     "data": {
      "text/html": [
       "<table class=\"simpletable\">\n",
       "<tr>\n",
       "       <td>Model:</td>        <td>MixedLM</td> <td>Dependent Variable:</td>       <td>y</td>      \n",
       "</tr>\n",
       "<tr>\n",
       "  <td>No. Observations:</td>  <td>1000000</td>       <td>Method:</td>           <td>REML</td>     \n",
       "</tr>\n",
       "<tr>\n",
       "     <td>No. Groups:</td>        <td>4</td>          <td>Scale:</td>           <td>15.0989</td>   \n",
       "</tr>\n",
       "<tr>\n",
       "  <td>Min. group size:</td>   <td>250000</td>    <td>Log-Likelihood:</td>   <td>-2776273.8789</td>\n",
       "</tr>\n",
       "<tr>\n",
       "  <td>Max. group size:</td>   <td>250000</td>      <td>Converged:</td>           <td>Yes</td>     \n",
       "</tr>\n",
       "<tr>\n",
       "  <td>Mean group size:</td>  <td>250000.0</td>          <td></td>                 <td></td>       \n",
       "</tr>\n",
       "</table>\n",
       "<table class=\"simpletable\">\n",
       "<tr>\n",
       "      <td></td>       <th>Coef.</th> <th>Std.Err.</th>    <th>z</th>   <th>P>|z|</th> <th>[0.025</th> <th>0.975]</th>\n",
       "</tr>\n",
       "<tr>\n",
       "  <th>Intercept</th> <td>15.390</td>   <td>1.943</td>   <td>7.921</td> <td>0.000</td> <td>11.582</td> <td>19.198</td>\n",
       "</tr>\n",
       "<tr>\n",
       "  <th>x0</th>        <td>-0.041</td>   <td>0.013</td>  <td>-3.022</td> <td>0.003</td> <td>-0.067</td> <td>-0.014</td>\n",
       "</tr>\n",
       "<tr>\n",
       "  <th>Group Var</th> <td>15.099</td>   <td>3.189</td>     <td></td>      <td></td>       <td></td>       <td></td>   \n",
       "</tr>\n",
       "</table>"
      ],
      "text/plain": [
       "<class 'statsmodels.iolib.summary2.Summary'>\n",
       "\"\"\"\n",
       "           Mixed Linear Model Regression Results\n",
       "============================================================\n",
       "Model:            MixedLM  Dependent Variable: y            \n",
       "No. Observations: 1000000  Method:             REML         \n",
       "No. Groups:       4        Scale:              15.0989      \n",
       "Min. group size:  250000   Log-Likelihood:     -2776273.8789\n",
       "Max. group size:  250000   Converged:          Yes          \n",
       "Mean group size:  250000.0                                  \n",
       "-------------------------------------------------------------\n",
       "              Coef.   Std.Err.    z     P>|z|  [0.025  0.975]\n",
       "-------------------------------------------------------------\n",
       "Intercept     15.390     1.943   7.921  0.000  11.582  19.198\n",
       "x0            -0.041     0.013  -3.022  0.003  -0.067  -0.014\n",
       "Group Var     15.099     3.189                               \n",
       "============================================================\n",
       "\n",
       "\"\"\""
      ]
     },
     "execution_count": 5,
     "metadata": {},
     "output_type": "execute_result"
    }
   ],
   "source": [
    "LMM(\"formula\").summary()"
   ]
  },
  {
   "cell_type": "markdown",
   "metadata": {},
   "source": [
    "#### 2.1.2 statsmodel \"matrix\""
   ]
  },
  {
   "cell_type": "code",
   "execution_count": 6,
   "metadata": {},
   "outputs": [
    {
     "data": {
      "text/html": [
       "<table class=\"simpletable\">\n",
       "<tr>\n",
       "       <td>Model:</td>        <td>MixedLM</td> <td>Dependent Variable:</td>       <td>y</td>      \n",
       "</tr>\n",
       "<tr>\n",
       "  <td>No. Observations:</td>  <td>1000000</td>       <td>Method:</td>           <td>REML</td>     \n",
       "</tr>\n",
       "<tr>\n",
       "     <td>No. Groups:</td>        <td>4</td>          <td>Scale:</td>           <td>15.0989</td>   \n",
       "</tr>\n",
       "<tr>\n",
       "  <td>Min. group size:</td>   <td>250000</td>    <td>Log-Likelihood:</td>   <td>-2776273.8789</td>\n",
       "</tr>\n",
       "<tr>\n",
       "  <td>Max. group size:</td>   <td>250000</td>      <td>Converged:</td>           <td>Yes</td>     \n",
       "</tr>\n",
       "<tr>\n",
       "  <td>Mean group size:</td>  <td>250000.0</td>          <td></td>                 <td></td>       \n",
       "</tr>\n",
       "</table>\n",
       "<table class=\"simpletable\">\n",
       "<tr>\n",
       "      <td></td>       <th>Coef.</th> <th>Std.Err.</th>    <th>z</th>   <th>P>|z|</th> <th>[0.025</th> <th>0.975]</th>\n",
       "</tr>\n",
       "<tr>\n",
       "  <th>Intercept</th> <td>15.390</td>   <td>1.943</td>   <td>7.921</td> <td>0.000</td> <td>11.582</td> <td>19.198</td>\n",
       "</tr>\n",
       "<tr>\n",
       "  <th>x0</th>        <td>-0.041</td>   <td>0.013</td>  <td>-3.022</td> <td>0.003</td> <td>-0.067</td> <td>-0.014</td>\n",
       "</tr>\n",
       "<tr>\n",
       "  <th>Group Var</th> <td>15.099</td>   <td>3.189</td>     <td></td>      <td></td>       <td></td>       <td></td>   \n",
       "</tr>\n",
       "</table>"
      ],
      "text/plain": [
       "<class 'statsmodels.iolib.summary2.Summary'>\n",
       "\"\"\"\n",
       "           Mixed Linear Model Regression Results\n",
       "============================================================\n",
       "Model:            MixedLM  Dependent Variable: y            \n",
       "No. Observations: 1000000  Method:             REML         \n",
       "No. Groups:       4        Scale:              15.0989      \n",
       "Min. group size:  250000   Log-Likelihood:     -2776273.8789\n",
       "Max. group size:  250000   Converged:          Yes          \n",
       "Mean group size:  250000.0                                  \n",
       "-------------------------------------------------------------\n",
       "              Coef.   Std.Err.    z     P>|z|  [0.025  0.975]\n",
       "-------------------------------------------------------------\n",
       "Intercept     15.390     1.943   7.921  0.000  11.582  19.198\n",
       "x0            -0.041     0.013  -3.022  0.003  -0.067  -0.014\n",
       "Group Var     15.099     3.189                               \n",
       "============================================================\n",
       "\n",
       "\"\"\""
      ]
     },
     "execution_count": 6,
     "metadata": {},
     "output_type": "execute_result"
    },
    {
     "data": {
      "text/html": [
       "<table class=\"simpletable\">\n",
       "<tr>\n",
       "       <td>Model:</td>        <td>MixedLM</td> <td>Dependent Variable:</td>       <td>y</td>      \n",
       "</tr>\n",
       "<tr>\n",
       "  <td>No. Observations:</td>  <td>1000000</td>       <td>Method:</td>           <td>REML</td>     \n",
       "</tr>\n",
       "<tr>\n",
       "     <td>No. Groups:</td>        <td>4</td>          <td>Scale:</td>           <td>15.0989</td>   \n",
       "</tr>\n",
       "<tr>\n",
       "  <td>Min. group size:</td>   <td>250000</td>    <td>Log-Likelihood:</td>   <td>-2776273.8789</td>\n",
       "</tr>\n",
       "<tr>\n",
       "  <td>Max. group size:</td>   <td>250000</td>      <td>Converged:</td>           <td>Yes</td>     \n",
       "</tr>\n",
       "<tr>\n",
       "  <td>Mean group size:</td>  <td>250000.0</td>          <td></td>                 <td></td>       \n",
       "</tr>\n",
       "</table>\n",
       "<table class=\"simpletable\">\n",
       "<tr>\n",
       "      <td></td>       <th>Coef.</th> <th>Std.Err.</th>    <th>z</th>   <th>P>|z|</th> <th>[0.025</th> <th>0.975]</th>\n",
       "</tr>\n",
       "<tr>\n",
       "  <th>Intercept</th> <td>15.390</td>   <td>1.943</td>   <td>7.921</td> <td>0.000</td> <td>11.582</td> <td>19.198</td>\n",
       "</tr>\n",
       "<tr>\n",
       "  <th>x0</th>        <td>-0.041</td>   <td>0.013</td>  <td>-3.022</td> <td>0.003</td> <td>-0.067</td> <td>-0.014</td>\n",
       "</tr>\n",
       "<tr>\n",
       "  <th>Group Var</th> <td>15.099</td>   <td>3.189</td>     <td></td>      <td></td>       <td></td>       <td></td>   \n",
       "</tr>\n",
       "</table>"
      ],
      "text/plain": [
       "<class 'statsmodels.iolib.summary2.Summary'>\n",
       "\"\"\"\n",
       "           Mixed Linear Model Regression Results\n",
       "============================================================\n",
       "Model:            MixedLM  Dependent Variable: y            \n",
       "No. Observations: 1000000  Method:             REML         \n",
       "No. Groups:       4        Scale:              15.0989      \n",
       "Min. group size:  250000   Log-Likelihood:     -2776273.8789\n",
       "Max. group size:  250000   Converged:          Yes          \n",
       "Mean group size:  250000.0                                  \n",
       "-------------------------------------------------------------\n",
       "              Coef.   Std.Err.    z     P>|z|  [0.025  0.975]\n",
       "-------------------------------------------------------------\n",
       "Intercept     15.390     1.943   7.921  0.000  11.582  19.198\n",
       "x0            -0.041     0.013  -3.022  0.003  -0.067  -0.014\n",
       "Group Var     15.099     3.189                               \n",
       "============================================================\n",
       "\n",
       "\"\"\""
      ]
     },
     "execution_count": 6,
     "metadata": {},
     "output_type": "execute_result"
    }
   ],
   "source": [
    "LMM(\"matrix\").summary()"
   ]
  },
  {
   "cell_type": "markdown",
   "metadata": {},
   "source": [
    "### 2.2 Sprawdzenie czasu konstrukcji modelu\n",
    "#### 2.2.1 formula - 100 razy"
   ]
  },
  {
   "cell_type": "code",
   "execution_count": 8,
   "metadata": {},
   "outputs": [
    {
     "name": "stdout",
     "output_type": "stream",
     "text": [
      "1.8467 0.2006\n",
      "1.8467 0.2006\n"
     ]
    }
   ],
   "source": [
    "formula_times = check_time(\"formula\", 100)\n",
    "\n",
    "pd.DataFrame.to_clipboard(pd.DataFrame(formula_times))\n",
    "\n",
    "print(round(mean(formula_times), 4),\n",
    "      round(stdev(formula_times), 4))"
   ]
  },
  {
   "cell_type": "code",
   "execution_count": 9,
   "metadata": {},
   "outputs": [
    {
     "name": "stdout",
     "output_type": "stream",
     "text": [
      "1.78 s ± 92.4 ms per loop (mean ± std. dev. of 7 runs, 1 loop each)\n",
      "1.78 s ± 92.4 ms per loop (mean ± std. dev. of 7 runs, 1 loop each)\n"
     ]
    }
   ],
   "source": [
    "%timeit LMM(\"formula\")"
   ]
  },
  {
   "cell_type": "markdown",
   "metadata": {},
   "source": [
    "1.86 s ± 93.5 ms per loop (mean ± std. dev. of 7 runs, 1 loop each)"
   ]
  },
  {
   "cell_type": "code",
   "execution_count": 10,
   "metadata": {},
   "outputs": [],
   "source": [
    "%lprun -f LMM LMM(\"formula\")"
   ]
  },
  {
   "cell_type": "markdown",
   "metadata": {},
   "source": [
    "Timer unit: 1e-07 s\n",
    "\n",
    "Total time: 2.93819 s\n",
    "File: <ipython-input-3-55d36bd81f50>\n",
    "Function: LMM at line 1\n",
    "\n",
    "Line #      Hits         Time  Per Hit   % Time  Line Contents\n",
    "==============================================================\n",
    "     1                                           def LMM(model):\n",
    "     2         1        109.0    109.0      0.0      if model == \"formula\":\n",
    "     3         1   21009131.0 21009131.0     71.5          LMM_formula = smf.mixedlm(formula, data_set, groups=groups)\n",
    "     4         1    8372628.0 8372628.0     28.5          LMMF_formula = LMM_formula.fit()\n",
    "     5         1         17.0     17.0      0.0          return LMMF_formula\n",
    "     6                                           \n",
    "     7                                               elif model == \"matrix\":\n",
    "     8                                                   LMM_matrix = sm.MixedLM(y, X, groups=groups)\n",
    "     9                                                   LMMF_matrix = LMM_matrix.fit()\n",
    "    10                                                   return LMMF_matrix"
   ]
  },
  {
   "cell_type": "markdown",
   "metadata": {},
   "source": [
    "#### 2.2.2 matrix - 100 razy"
   ]
  },
  {
   "cell_type": "code",
   "execution_count": 11,
   "metadata": {},
   "outputs": [
    {
     "name": "stdout",
     "output_type": "stream",
     "text": [
      "1.6672 0.2507\n",
      "1.6672 0.2507\n"
     ]
    }
   ],
   "source": [
    "matrix_times = check_time(\"matrix\", 100)\n",
    "\n",
    "pd.DataFrame.to_clipboard(pd.DataFrame(matrix_times))\n",
    "\n",
    "print(round(mean(matrix_times), 4),\n",
    "      round(stdev(matrix_times), 4))"
   ]
  },
  {
   "cell_type": "code",
   "execution_count": 12,
   "metadata": {},
   "outputs": [
    {
     "name": "stdout",
     "output_type": "stream",
     "text": [
      "1.62 s ± 73.8 ms per loop (mean ± std. dev. of 7 runs, 1 loop each)\n",
      "1.62 s ± 73.8 ms per loop (mean ± std. dev. of 7 runs, 1 loop each)\n"
     ]
    }
   ],
   "source": [
    "%timeit LMM(\"matrix\")"
   ]
  },
  {
   "cell_type": "markdown",
   "metadata": {},
   "source": [
    "1.63 s ± 74.7 ms per loop (mean ± std. dev. of 7 runs, 1 loop each)"
   ]
  },
  {
   "cell_type": "code",
   "execution_count": 13,
   "metadata": {},
   "outputs": [],
   "source": [
    "%lprun -f LMM LMM(\"matrix\")"
   ]
  },
  {
   "cell_type": "markdown",
   "metadata": {},
   "source": [
    "Timer unit: 1e-07 s\n",
    "\n",
    "Total time: 2.51752 s\n",
    "File: <ipython-input-3-55d36bd81f50>\n",
    "Function: LMM at line 1\n",
    "\n",
    "Line #      Hits         Time  Per Hit   % Time  Line Contents\n",
    "==============================================================\n",
    "     1                                           def LMM(model):\n",
    "     2         1         60.0     60.0      0.0      if model == \"formula\":\n",
    "     3                                                   LMM_formula = smf.mixedlm(formula, data_set, groups=groups)\n",
    "     4                                                   LMMF_formula = LMM_formula.fit()\n",
    "     5                                                   return LMMF_formula\n",
    "     6                                           \n",
    "     7         1        228.0    228.0      0.0      elif model == \"matrix\":\n",
    "     8         1   17742568.0 17742568.0     70.5          LMM_matrix = sm.MixedLM(y, X, groups=groups)\n",
    "     9         1    7432297.0 7432297.0     29.5          LMMF_matrix = LMM_matrix.fit()\n",
    "    10         1         19.0     19.0      0.0          return LMMF_matrix"
   ]
  },
  {
   "cell_type": "markdown",
   "metadata": {},
   "source": [
    "### 2.3 Sprawdzenie zużywanej pamięci RAM\n",
    "#### > Z użyciem \"IPython Magic Commands\"\n",
    "##### >> statsmodel \"formula\""
   ]
  },
  {
   "cell_type": "code",
   "execution_count": 14,
   "metadata": {},
   "outputs": [
    {
     "name": "stdout",
     "output_type": "stream",
     "text": [
      "peak memory: 344.95 MiB, increment: 131.51 MiB\n",
      "peak memory: 344.95 MiB, increment: 131.51 MiB\n"
     ]
    }
   ],
   "source": [
    "%memit LMM(\"formula\")"
   ]
  },
  {
   "cell_type": "markdown",
   "metadata": {},
   "source": [
    "Line #    Mem usage    Increment   Line Contents\n",
    "================================================\n",
    "    22    150.7 MiB    150.7 MiB   @profile\n",
    "    23                             def LMM(model):\n",
    "    24    150.7 MiB      0.0 MiB       if model == \"formula\":\n",
    "    25    267.0 MiB    116.3 MiB           LMM_formula = smf.mixedlm(formula, data_set, groups=groups)\n",
    "    26    293.9 MiB     26.9 MiB           LMMF_formula = LMM_formula.fit()\n",
    "    27    293.9 MiB      0.0 MiB           return LMMF_formula\n",
    "    28                             \n",
    "    29                                 elif model == \"matrix\":\n",
    "    30                                     LMM_matrix = sm.MixedLM(y, X, groups=groups)\n",
    "    31                                     LMMF_matrix = LMM_matrix.fit()\n",
    "    32                                     return LMMF_matrix"
   ]
  },
  {
   "cell_type": "markdown",
   "metadata": {},
   "source": [
    "##### >> statsmodel \"matrix\""
   ]
  },
  {
   "cell_type": "code",
   "execution_count": 15,
   "metadata": {
    "scrolled": true
   },
   "outputs": [
    {
     "name": "stdout",
     "output_type": "stream",
     "text": [
      "peak memory: 323.17 MiB, increment: 108.24 MiB\n",
      "peak memory: 323.17 MiB, increment: 108.24 MiB\n"
     ]
    }
   ],
   "source": [
    "%memit LMM(\"matrix\")"
   ]
  },
  {
   "cell_type": "markdown",
   "metadata": {},
   "source": [
    "Line #    Mem usage    Increment   Line Contents\n",
    "================================================\n",
    "    22    150.7 MiB    150.7 MiB   @profile\n",
    "    23                             def LMM(model):\n",
    "    24    150.7 MiB      0.0 MiB       if model == \"formula\":\n",
    "    25                                     LMM_formula = smf.mixedlm(formula, data_set, groups=groups)\n",
    "    26                                     LMMF_formula = LMM_formula.fit()\n",
    "    27                                     return LMMF_formula\n",
    "    28                             \n",
    "    29    150.7 MiB      0.0 MiB       elif model == \"matrix\":\n",
    "    30    229.0 MiB     78.2 MiB           LMM_matrix = sm.MixedLM(y, X, groups=groups)\n",
    "    31    255.8 MiB     26.9 MiB           LMMF_matrix = LMM_matrix.fit()\n",
    "    32    255.8 MiB      0.0 MiB           return LMMF_matrix"
   ]
  },
  {
   "cell_type": "markdown",
   "metadata": {},
   "source": [
    "#### > Z użyciem biblioteki \"memory_profiler\" w programie PyCharm\n",
    "##### >> statsmodel \"formula\n",
    "![RAM_formula](https://i.imgur.com/VmMhmfB.png)"
   ]
  },
  {
   "cell_type": "markdown",
   "metadata": {},
   "source": [
    "##### > statsmodel \"matrix\""
   ]
  },
  {
   "cell_type": "markdown",
   "metadata": {},
   "source": [
    "![RAM_matrix](https://i.imgur.com/c8irBbo.png)"
   ]
  }
 ],
 "metadata": {
  "kernelspec": {
   "display_name": "Python 3",
   "language": "python",
   "name": "python3"
  },
  "language_info": {
   "codemirror_mode": {
    "name": "ipython",
    "version": 3
   },
   "file_extension": ".py",
   "mimetype": "text/x-python",
   "name": "python",
   "nbconvert_exporter": "python",
   "pygments_lexer": "ipython3",
   "version": "3.8.3"
  }
 },
 "nbformat": 4,
 "nbformat_minor": 4
}
