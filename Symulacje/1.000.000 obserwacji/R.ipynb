{
 "cells": [
  {
   "cell_type": "markdown",
   "metadata": {},
   "source": [
    "# R: Porównanie bibliotek\n",
    "# Zbiór danych z 1.000.000 obserwacji\n",
    "---\n",
    "## 1. Konstrukcja modeli i mierników parametrów\n",
    "### 1.1 Biblioteki i edycja danych\n",
    "#### 1.1.1 Biblioteki"
   ]
  },
  {
   "cell_type": "code",
   "execution_count": 1,
   "metadata": {},
   "outputs": [
    {
     "name": "stderr",
     "output_type": "stream",
     "text": [
      "\n",
      "Attaching package: 'dplyr'\n",
      "\n",
      "The following objects are masked from 'package:stats':\n",
      "\n",
      "    filter, lag\n",
      "\n",
      "The following objects are masked from 'package:base':\n",
      "\n",
      "    intersect, setdiff, setequal, union\n",
      "\n",
      "\n",
      "Attaching package: 'data.table'\n",
      "\n",
      "The following objects are masked from 'package:dplyr':\n",
      "\n",
      "    between, first, last\n",
      "\n",
      "Loading required package: Matrix\n",
      "\n",
      "Attaching package: 'nlme'\n",
      "\n",
      "The following object is masked from 'package:lme4':\n",
      "\n",
      "    lmList\n",
      "\n",
      "The following object is masked from 'package:dplyr':\n",
      "\n",
      "    collapse\n",
      "\n",
      "This is mgcv 1.8-28. For overview type 'help(\"mgcv-package\")'.\n"
     ]
    }
   ],
   "source": [
    "library(dplyr)\n",
    "library(data.table)\n",
    "library(lme4)\n",
    "library(nlme)\n",
    "library(mgcv)\n",
    "library(profmem)"
   ]
  },
  {
   "cell_type": "markdown",
   "metadata": {},
   "source": [
    "#### 1.1.2 Wczytanie i edycja danych"
   ]
  },
  {
   "cell_type": "code",
   "execution_count": 2,
   "metadata": {
    "scrolled": true
   },
   "outputs": [
    {
     "data": {
      "text/html": [
       "<table>\n",
       "<thead><tr><th scope=col>y</th><th scope=col>x0</th><th scope=col>fac</th></tr></thead>\n",
       "<tbody>\n",
       "\t<tr><td>11.56401  </td><td>0.31963601</td><td>1         </td></tr>\n",
       "\t<tr><td>21.02727  </td><td>0.01881216</td><td>2         </td></tr>\n",
       "\t<tr><td>19.56818  </td><td>0.83151838</td><td>3         </td></tr>\n",
       "\t<tr><td>19.49194  </td><td>0.15227013</td><td>4         </td></tr>\n",
       "\t<tr><td>12.10726  </td><td>0.77815483</td><td>1         </td></tr>\n",
       "\t<tr><td>16.63580  </td><td>0.77547383</td><td>2         </td></tr>\n",
       "</tbody>\n",
       "</table>\n"
      ],
      "text/latex": [
       "\\begin{tabular}{r|lll}\n",
       " y & x0 & fac\\\\\n",
       "\\hline\n",
       "\t 11.56401   & 0.31963601 & 1         \\\\\n",
       "\t 21.02727   & 0.01881216 & 2         \\\\\n",
       "\t 19.56818   & 0.83151838 & 3         \\\\\n",
       "\t 19.49194   & 0.15227013 & 4         \\\\\n",
       "\t 12.10726   & 0.77815483 & 1         \\\\\n",
       "\t 16.63580   & 0.77547383 & 2         \\\\\n",
       "\\end{tabular}\n"
      ],
      "text/markdown": [
       "\n",
       "| y | x0 | fac |\n",
       "|---|---|---|\n",
       "| 11.56401   | 0.31963601 | 1          |\n",
       "| 21.02727   | 0.01881216 | 2          |\n",
       "| 19.56818   | 0.83151838 | 3          |\n",
       "| 19.49194   | 0.15227013 | 4          |\n",
       "| 12.10726   | 0.77815483 | 1          |\n",
       "| 16.63580   | 0.77547383 | 2          |\n",
       "\n"
      ],
      "text/plain": [
       "  y        x0         fac\n",
       "1 11.56401 0.31963601 1  \n",
       "2 21.02727 0.01881216 2  \n",
       "3 19.56818 0.83151838 3  \n",
       "4 19.49194 0.15227013 4  \n",
       "5 12.10726 0.77815483 1  \n",
       "6 16.63580 0.77547383 2  "
      ]
     },
     "metadata": {},
     "output_type": "display_data"
    }
   ],
   "source": [
    "data_set <- fread(\"BIG_Sim_1e6.csv\")\n",
    "\n",
    "head(data_set)"
   ]
  },
  {
   "cell_type": "markdown",
   "metadata": {},
   "source": [
    "### 1.2 Funkcje\n",
    "#### 1.2.1 Funkcja tworząca model"
   ]
  },
  {
   "cell_type": "code",
   "execution_count": 3,
   "metadata": {},
   "outputs": [],
   "source": [
    "LMM <- function(model) {\n",
    "  if(model == \"lme4\") {\n",
    "    LMM_lme4 <- lmer(data = data_set, y ~ x0 + (1|fac))\n",
    "    return(LMM_lme4)\n",
    "  }\n",
    "  else if(model == \"nlme\") {\n",
    "    LMM_nlme <- lme(data = data_set, y ~ x0, random = ~ 1|fac)\n",
    "    return(LMM_nlme)\n",
    "  }\n",
    "  else if(model == \"bam\") {\n",
    "    LMM_bam <- bam(data = data_set, y ~ x0 + s(fac, bs = \"re\"))\n",
    "    return(LMM_bam)\n",
    "  }\n",
    "}"
   ]
  },
  {
   "cell_type": "markdown",
   "metadata": {},
   "source": [
    "#### 1.2.2 Funkcja sprawdzająca czas"
   ]
  },
  {
   "cell_type": "code",
   "execution_count": 4,
   "metadata": {},
   "outputs": [],
   "source": [
    "check_time <- function(model, n) {\n",
    "  times <- c()\n",
    "\n",
    "  for(i in 1:n) {\n",
    "    start_time <- Sys.time()\n",
    "    LMM(model)\n",
    "    end_time <- Sys.time()\n",
    "    times <- c(times, round(end_time - start_time, 4))\n",
    "    }\n",
    "    return(times)\n",
    "  }"
   ]
  },
  {
   "cell_type": "markdown",
   "metadata": {},
   "source": [
    "#### 1.2.3 Funkcja mierząca ilość zużytego RAMu"
   ]
  },
  {
   "cell_type": "code",
   "execution_count": 5,
   "metadata": {},
   "outputs": [],
   "source": [
    "check_RAM <- function(model) {\n",
    "  prof_mem <- profmem({\n",
    "    LMM(model)\n",
    "      })\n",
    "  sum_in_MB <- round(sum(prof_mem$bytes[!is.na(prof_mem$bytes)]) * 1e-6, 4)\n",
    "  return(sum_in_MB)\n",
    "}"
   ]
  },
  {
   "cell_type": "markdown",
   "metadata": {},
   "source": [
    "## 2. Symulacje\n",
    "### 2.1 Podsumowanie modelu\n",
    "#### 2.1.1 \"lme4\""
   ]
  },
  {
   "cell_type": "code",
   "execution_count": 6,
   "metadata": {
    "scrolled": true
   },
   "outputs": [
    {
     "data": {
      "text/plain": [
       "Linear mixed model fit by REML ['lmerMod']\n",
       "Formula: y ~ x0 + (1 | fac)\n",
       "   Data: data_set\n",
       "\n",
       "REML criterion at convergence: 5552548\n",
       "\n",
       "Scaled residuals: \n",
       "    Min      1Q  Median      3Q     Max \n",
       "-3.6007 -0.7211 -0.0664  0.6711  4.3146 \n",
       "\n",
       "Random effects:\n",
       " Groups   Name        Variance Std.Dev.\n",
       " fac      (Intercept) 15.03    3.877   \n",
       " Residual             15.10    3.886   \n",
       "Number of obs: 1000000, groups:  fac, 4\n",
       "\n",
       "Fixed effects:\n",
       "            Estimate Std. Error t value\n",
       "(Intercept) 15.39033    1.93838   7.940\n",
       "x0          -0.04068    0.01346  -3.022\n",
       "\n",
       "Correlation of Fixed Effects:\n",
       "   (Intr)\n",
       "x0 -0.003"
      ]
     },
     "metadata": {},
     "output_type": "display_data"
    }
   ],
   "source": [
    " summary(LMM(\"lme4\"))"
   ]
  },
  {
   "cell_type": "markdown",
   "metadata": {},
   "source": [
    "#### 2.1.2 \"nlme\""
   ]
  },
  {
   "cell_type": "code",
   "execution_count": 7,
   "metadata": {},
   "outputs": [
    {
     "data": {
      "text/plain": [
       "Linear mixed-effects model fit by REML\n",
       " Data: data_set \n",
       "      AIC     BIC   logLik\n",
       "  5552556 5552603 -2776274\n",
       "\n",
       "Random effects:\n",
       " Formula: ~1 | fac\n",
       "        (Intercept) Residual\n",
       "StdDev:    3.876102 3.885725\n",
       "\n",
       "Fixed effects: y ~ x0 \n",
       "                Value Std.Error     DF   t-value p-value\n",
       "(Intercept) 15.390336 1.9380667 999995  7.941077  0.0000\n",
       "x0          -0.040677 0.0134595 999995 -3.022182  0.0025\n",
       " Correlation: \n",
       "   (Intr)\n",
       "x0 -0.003\n",
       "\n",
       "Standardized Within-Group Residuals:\n",
       "        Min          Q1         Med          Q3         Max \n",
       "-3.60069458 -0.72111192 -0.06643291  0.67105573  4.31456525 \n",
       "\n",
       "Number of Observations: 1000000\n",
       "Number of Groups: 4 "
      ]
     },
     "metadata": {},
     "output_type": "display_data"
    }
   ],
   "source": [
    "summary(LMM(\"nlme\"))"
   ]
  },
  {
   "cell_type": "markdown",
   "metadata": {},
   "source": [
    "#### 2.1.3 \"bam\""
   ]
  },
  {
   "cell_type": "code",
   "execution_count": 8,
   "metadata": {
    "scrolled": false
   },
   "outputs": [
    {
     "data": {
      "text/plain": [
       "\n",
       "Family: gaussian \n",
       "Link function: identity \n",
       "\n",
       "Formula:\n",
       "y ~ x0 + s(fac, bs = \"re\")\n",
       "\n",
       "Parametric coefficients:\n",
       "            Estimate Std. Error t value Pr(>|t|)    \n",
       "(Intercept)  7.88429    0.01166  675.93  < 2e-16 ***\n",
       "x0          -0.04064    0.01346   -3.02  0.00253 ** \n",
       "---\n",
       "Signif. codes:  0 '***' 0.001 '**' 0.01 '*' 0.05 '.' 0.1 ' ' 1\n",
       "\n",
       "Approximate significance of smooth terms:\n",
       "       edf Ref.df      F p-value    \n",
       "s(fac)   1      1 746288  <2e-16 ***\n",
       "---\n",
       "Signif. codes:  0 '***' 0.001 '**' 0.01 '*' 0.05 '.' 0.1 ' ' 1\n",
       "\n",
       "R-sq.(adj) =  0.427   Deviance explained = 42.7%\n",
       "fREML = 2.7763e+06  Scale est. = 15.099    n = 1000000"
      ]
     },
     "metadata": {},
     "output_type": "display_data"
    }
   ],
   "source": [
    "summary(LMM(\"bam\"))"
   ]
  },
  {
   "cell_type": "markdown",
   "metadata": {},
   "source": [
    "### 2.2 Sprawdzenie czasu konstrukcji modelu\n",
    "#### 2.2.1 100 razy z użyciem funkcji \"check_time(model, n)\""
   ]
  },
  {
   "cell_type": "code",
   "execution_count": 9,
   "metadata": {
    "scrolled": false
   },
   "outputs": [
    {
     "data": {
      "text/html": [
       "<table>\n",
       "<thead><tr><th scope=col>lme4_mean</th><th scope=col>lme4_sd</th><th scope=col>nlme_mean</th><th scope=col>nlme_sd</th><th scope=col>bam_mean</th><th scope=col>bam_sd</th></tr></thead>\n",
       "<tbody>\n",
       "\t<tr><td>9.7396 </td><td>0.5314 </td><td>11.4261</td><td>0.621  </td><td>3.9247 </td><td>5.0389 </td></tr>\n",
       "</tbody>\n",
       "</table>\n"
      ],
      "text/latex": [
       "\\begin{tabular}{r|llllll}\n",
       " lme4\\_mean & lme4\\_sd & nlme\\_mean & nlme\\_sd & bam\\_mean & bam\\_sd\\\\\n",
       "\\hline\n",
       "\t 9.7396  & 0.5314  & 11.4261 & 0.621   & 3.9247  & 5.0389 \\\\\n",
       "\\end{tabular}\n"
      ],
      "text/markdown": [
       "\n",
       "| lme4_mean | lme4_sd | nlme_mean | nlme_sd | bam_mean | bam_sd |\n",
       "|---|---|---|---|---|---|\n",
       "| 9.7396  | 0.5314  | 11.4261 | 0.621   | 3.9247  | 5.0389  |\n",
       "\n"
      ],
      "text/plain": [
       "  lme4_mean lme4_sd nlme_mean nlme_sd bam_mean bam_sd\n",
       "1 9.7396    0.5314  11.4261   0.621   3.9247   5.0389"
      ]
     },
     "metadata": {},
     "output_type": "display_data"
    }
   ],
   "source": [
    "LMM_lme4_times <- check_time(\"lme4\", 100)\n",
    "LMM_nlme_times <- check_time(\"nlme\", 100)\n",
    "LMM_bam_times <- check_time(\"bam\", 100)\n",
    "\n",
    "data.frame(LMM_lme4_times, LMM_nlme_times, LMM_bam_times) %>%\n",
    "    summarise(lme4_mean = round(mean(LMM_lme4_times), 4),\n",
    "              lme4_sd = round(sd(LMM_lme4_times), 4),\n",
    "              nlme_mean = round(mean(LMM_nlme_times), 4),\n",
    "              nlme_sd = round(sd(LMM_nlme_times), 4),\n",
    "              bam_mean = round(mean(LMM_bam_times), 4),\n",
    "              bam_sd = round(sd(LMM_bam_times), 4))"
   ]
  },
  {
   "cell_type": "markdown",
   "metadata": {},
   "source": [
    "### 2.3 Sprawdzenie zużytej pamięci RAM\n",
    "#### 2.3.1 Z użyciem funkcji \"check_RAM(model)\""
   ]
  },
  {
   "cell_type": "code",
   "execution_count": 10,
   "metadata": {},
   "outputs": [
    {
     "data": {
      "text/html": [
       "<table>\n",
       "<thead><tr><th scope=col>lme4_RAM</th><th scope=col>nlme_RAM</th><th scope=col>bam_RAM</th></tr></thead>\n",
       "<tbody>\n",
       "\t<tr><td>1356.555</td><td>1425.31 </td><td>1006.423</td></tr>\n",
       "</tbody>\n",
       "</table>\n"
      ],
      "text/latex": [
       "\\begin{tabular}{r|lll}\n",
       " lme4\\_RAM & nlme\\_RAM & bam\\_RAM\\\\\n",
       "\\hline\n",
       "\t 1356.555 & 1425.31  & 1006.423\\\\\n",
       "\\end{tabular}\n"
      ],
      "text/markdown": [
       "\n",
       "| lme4_RAM | nlme_RAM | bam_RAM |\n",
       "|---|---|---|\n",
       "| 1356.555 | 1425.31  | 1006.423 |\n",
       "\n"
      ],
      "text/plain": [
       "  lme4_RAM nlme_RAM bam_RAM \n",
       "1 1356.555 1425.31  1006.423"
      ]
     },
     "metadata": {},
     "output_type": "display_data"
    }
   ],
   "source": [
    "lme4_RAM <- check_RAM(\"lme4\")\n",
    "nlme_RAM <- check_RAM(\"nlme\")\n",
    "bam_RAM <- check_RAM(\"bam\")\n",
    "\n",
    "data.frame(lme4_RAM, nlme_RAM, bam_RAM)"
   ]
  },
  {
   "cell_type": "markdown",
   "metadata": {},
   "source": [
    "#### 2.3.2 Z użyciem wbudowanego w R narzędzia profilowania"
   ]
  },
  {
   "cell_type": "markdown",
   "metadata": {},
   "source": [
    "https://rpubs.com/kamilpytlak/LMM_1e6"
   ]
  }
 ],
 "metadata": {
  "kernelspec": {
   "display_name": "R",
   "language": "R",
   "name": "ir"
  },
  "language_info": {
   "codemirror_mode": "r",
   "file_extension": ".r",
   "mimetype": "text/x-r-source",
   "name": "R",
   "pygments_lexer": "r",
   "version": "3.6.1"
  }
 },
 "nbformat": 4,
 "nbformat_minor": 4
}
